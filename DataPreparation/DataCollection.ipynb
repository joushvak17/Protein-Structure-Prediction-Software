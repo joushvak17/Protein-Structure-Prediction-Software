{
 "cells": [
  {
   "metadata": {},
   "cell_type": "markdown",
   "source": "Import the needed libraries",
   "id": "640460961574b36e"
  },
  {
   "cell_type": "code",
   "id": "initial_id",
   "metadata": {
    "collapsed": true,
    "ExecuteTime": {
     "end_time": "2024-05-16T19:15:22.579020Z",
     "start_time": "2024-05-16T19:15:22.500777Z"
    }
   },
   "source": [
    "import requests\n",
    "import os"
   ],
   "outputs": [],
   "execution_count": 1
  },
  {
   "metadata": {},
   "cell_type": "markdown",
   "source": "Get the total length of the IDs in the PDBDataID.csv file and put them into an array",
   "id": "38e8b04e865fe42a"
  },
  {
   "metadata": {
    "ExecuteTime": {
     "end_time": "2024-05-16T19:15:22.591339Z",
     "start_time": "2024-05-16T19:15:22.582207Z"
    }
   },
   "cell_type": "code",
   "source": [
    "with open(\"CSV Data/PDBDataID.csv\", \"r\") as f:\n",
    "    line = f.readline()\n",
    "    pdb_ids = line.split(\",\")\n",
    "    \n",
    "print(\"The total length of the IDs in the PDBDataID.csv file is: \", len(pdb_ids))"
   ],
   "id": "ade9b671bc0229b3",
   "outputs": [
    {
     "name": "stdout",
     "output_type": "stream",
     "text": [
      "The total length of the IDs in the PDBDataID.csv file is:  10000\n"
     ]
    }
   ],
   "execution_count": 2
  },
  {
   "metadata": {},
   "cell_type": "markdown",
   "source": "Define a function that will download a file from PDB",
   "id": "fdea647bf240f683"
  },
  {
   "metadata": {
    "ExecuteTime": {
     "end_time": "2024-05-16T19:15:22.601732Z",
     "start_time": "2024-05-16T19:15:22.595106Z"
    }
   },
   "cell_type": "code",
   "source": [
    "def download_pdb(pdb_id):\n",
    "    url = f\"https://files.rcsb.org/download/{pdb_id}.pdb\"\n",
    "    response = requests.get(url)\n",
    "    if response.status_code == 200:\n",
    "        with open(f\"PDB Data/{pdb_id}.pdb\", \"wb\") as f:\n",
    "            f.write(response.content)\n",
    "    else:\n",
    "        print(f\"Failed to download {pdb_id}.pdb\")"
   ],
   "id": "71a686cc57dfcddb",
   "outputs": [],
   "execution_count": 3
  },
  {
   "metadata": {},
   "cell_type": "markdown",
   "source": "Download all files from PDB using the IDs that were extracted",
   "id": "91579d06a0980e1"
  },
  {
   "metadata": {
    "ExecuteTime": {
     "end_time": "2024-05-16T20:21:56.794460Z",
     "start_time": "2024-05-16T19:15:22.605557Z"
    }
   },
   "cell_type": "code",
   "source": [
    "for pdb_id in pdb_ids:\n",
    "    download_pdb(pdb_id)\n",
    "    \n",
    "print(\"The total length of the IDs that were able to be downloaded is: \", len(os.listdir(\"PDB Data\")))"
   ],
   "id": "f04bc6ab30ce0f49",
   "outputs": [
    {
     "name": "stdout",
     "output_type": "stream",
     "text": [
      "Failed to download 2BTJ.pdb\n",
      "The total length of the IDs that were able to be downloaded is:  9999\n"
     ]
    }
   ],
   "execution_count": 4
  }
 ],
 "metadata": {
  "kernelspec": {
   "display_name": "Python 3",
   "language": "python",
   "name": "python3"
  },
  "language_info": {
   "codemirror_mode": {
    "name": "ipython",
    "version": 2
   },
   "file_extension": ".py",
   "mimetype": "text/x-python",
   "name": "python",
   "nbconvert_exporter": "python",
   "pygments_lexer": "ipython2",
   "version": "2.7.6"
  }
 },
 "nbformat": 4,
 "nbformat_minor": 5
}
