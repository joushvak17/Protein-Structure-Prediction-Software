{
 "cells": [
  {
   "cell_type": "code",
   "execution_count": null,
   "id": "initial_id",
   "metadata": {
    "ExecuteTime": {
     "end_time": "2024-05-16T19:15:22.579020Z",
     "start_time": "2024-05-16T19:15:22.500777Z"
    },
    "collapsed": true
   },
   "outputs": [],
   "source": [
    "# Import the needed libraries\n",
    "import requests\n",
    "import os"
   ]
  },
  {
   "cell_type": "code",
   "execution_count": null,
   "id": "ade9b671bc0229b3",
   "metadata": {
    "ExecuteTime": {
     "end_time": "2024-05-16T19:15:22.591339Z",
     "start_time": "2024-05-16T19:15:22.582207Z"
    }
   },
   "outputs": [],
   "source": [
    "# Get the total length of the IDs in the PDBDataID.csv file \n",
    "with open(\"CSV Data/PDBDataID.csv\", \"r\") as f:\n",
    "    line = f.readline()\n",
    "    pdb_ids = line.split(\",\")\n",
    "    \n",
    "print(\"The total length of the IDs in the PDBDataID.csv file is: \", len(pdb_ids))"
   ]
  },
  {
   "cell_type": "code",
   "execution_count": null,
   "id": "71a686cc57dfcddb",
   "metadata": {
    "ExecuteTime": {
     "end_time": "2024-05-16T19:15:22.601732Z",
     "start_time": "2024-05-16T19:15:22.595106Z"
    }
   },
   "outputs": [],
   "source": [
    "# Define a function that will download a PDB file given a PDB ID\n",
    "def download_pdb(pdb_id):\n",
    "    url = f\"https://files.rcsb.org/download/{pdb_id}.pdb\"\n",
    "    response = requests.get(url)\n",
    "    if response.status_code == 200:\n",
    "        with open(f\"PDB Data/{pdb_id}.pdb\", \"wb\") as f:\n",
    "            f.write(response.content)\n",
    "    else:\n",
    "        print(f\"Failed to download {pdb_id}.pdb\")"
   ]
  },
  {
   "cell_type": "code",
   "execution_count": null,
   "id": "f04bc6ab30ce0f49",
   "metadata": {
    "ExecuteTime": {
     "end_time": "2024-05-16T20:21:56.794460Z",
     "start_time": "2024-05-16T19:15:22.605557Z"
    }
   },
   "outputs": [],
   "source": [
    "# Download all files from PDB using the IDs that were extracted\n",
    "for pdb_id in pdb_ids:\n",
    "    download_pdb(pdb_id)\n",
    "    \n",
    "print(\"The total length of the IDs that were able to be downloaded is: \", len(os.listdir(\"PDB Data\")))"
   ]
  }
 ],
 "metadata": {
  "kernelspec": {
   "display_name": "Python 3",
   "language": "python",
   "name": "python3"
  },
  "language_info": {
   "codemirror_mode": {
    "name": "ipython",
    "version": 2
   },
   "file_extension": ".py",
   "mimetype": "text/x-python",
   "name": "python",
   "nbconvert_exporter": "python",
   "pygments_lexer": "ipython2",
   "version": "2.7.6"
  }
 },
 "nbformat": 4,
 "nbformat_minor": 5
}
