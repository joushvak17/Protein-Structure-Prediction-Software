{
 "cells": [
  {
   "cell_type": "code",
   "id": "initial_id",
   "metadata": {
    "collapsed": true,
    "ExecuteTime": {
     "end_time": "2024-04-13T21:29:39.854753Z",
     "start_time": "2024-04-13T21:29:39.798769Z"
    }
   },
   "source": [
    "# Import the needed libraries\n",
    "import requests"
   ],
   "outputs": [],
   "execution_count": 1
  },
  {
   "metadata": {
    "ExecuteTime": {
     "end_time": "2024-04-13T21:29:41.381007Z",
     "start_time": "2024-04-13T21:29:41.372472Z"
    }
   },
   "cell_type": "code",
   "source": [
    "# Define a function that will download file from PDB\n",
    "def download_pdb(pdb_id):\n",
    "    url = f\"https://files.rcsb.org/download/{pdb_id}.pdb\"\n",
    "    response = requests.get(url)\n",
    "    if response.status_code == 200:\n",
    "        with open(f\"{pdb_id}.pdb\", \"wb\") as f:\n",
    "            f.write(response.content)\n",
    "            print(f\"Downloaded {pdb_id}.pdb\")\n",
    "    else:\n",
    "        print(f\"Failed to download {pdb_id}.pdb\")"
   ],
   "id": "71a686cc57dfcddb",
   "outputs": [],
   "execution_count": 2
  },
  {
   "metadata": {
    "ExecuteTime": {
     "end_time": "2024-04-13T21:29:43.198139Z",
     "start_time": "2024-04-13T21:29:43.003269Z"
    }
   },
   "cell_type": "code",
   "source": [
    "# Download PDB ID: 1CRN Ribonuclease A (RNase A)\n",
    "download_pdb(\"1CRN\")"
   ],
   "id": "b1171317b068ef0f",
   "outputs": [
    {
     "name": "stdout",
     "output_type": "stream",
     "text": [
      "Downloaded 1CRN.pdb\n"
     ]
    }
   ],
   "execution_count": 3
  }
 ],
 "metadata": {
  "kernelspec": {
   "display_name": "Python 3",
   "language": "python",
   "name": "python3"
  },
  "language_info": {
   "codemirror_mode": {
    "name": "ipython",
    "version": 2
   },
   "file_extension": ".py",
   "mimetype": "text/x-python",
   "name": "python",
   "nbconvert_exporter": "python",
   "pygments_lexer": "ipython2",
   "version": "2.7.6"
  }
 },
 "nbformat": 4,
 "nbformat_minor": 5
}
