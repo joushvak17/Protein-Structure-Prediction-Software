{
 "cells": [
  {
   "cell_type": "code",
   "id": "initial_id",
   "metadata": {
    "collapsed": true
   },
   "source": [
    "# Import the needed libraries\n",
    "from Bio.PDB import PDBParser, is_aa, Polypeptide\n",
    "from Bio.Seq import Seq\n",
    "from Bio.SeqRecord import SeqRecord\n",
    "from Bio.Align.Applications import ClustalOmegaCommandline\n",
    "from Bio import SeqIO\n",
    "import os"
   ],
   "outputs": [],
   "execution_count": null
  },
  {
   "metadata": {},
   "cell_type": "code",
   "source": [
    "# Get the total number of PDB files in the PDB Data folder\n",
    "files_count = len(os.listdir(\"PDBData\")) - 1\n",
    "print(\"The total number of PDB files is: \", files_count)"
   ],
   "id": "2b493ae6c5fadeca",
   "outputs": [],
   "execution_count": null
  },
  {
   "metadata": {},
   "cell_type": "code",
   "source": [
    "# Define a function that will preprocess the PDB file\n",
    "def preprocess_sequence(pdb_files):\n",
    "    sequences = []\n",
    "    non_standard_residue_count = 0\n",
    "    missing_atom_count = 0\n",
    "    \n",
    "    for pdb_file in pdb_files:\n",
    "        structure = PDBParser().get_structure(pdb_file, f\"PDB Data/{pdb_file}.pdb\")\n",
    "        \n",
    "        for model in structure:\n",
    "            for chain in model:\n",
    "                sequence = \"\"\n",
    "                for residue in chain:\n",
    "                    # Check to see if it's not a standard amino acid\n",
    "                    if not is_aa(residue):\n",
    "                        non_standard_residue_count += 1\n",
    "                        continue\n",
    "\n",
    "                    # Ignore residues that are missing atoms  \n",
    "                    if residue.is_disordered():\n",
    "                        missing_atom_count += 1\n",
    "                        continue\n",
    "                    \n",
    "                    # Convert to one-letter code\n",
    "                    try:\n",
    "                        sequence += Polypeptide.three_to_one(residue.get_resname())\n",
    "                    except KeyError:\n",
    "                        continue\n",
    "\n",
    "                # Add correctly formed sequences\n",
    "                if sequence:\n",
    "                    sequences.append(sequence)\n",
    "                    \n",
    "    print(f\"Found {non_standard_residue_count} non-standard residues\")\n",
    "    print(f\"Found {missing_atom_count} missing atoms\")\n",
    "    \n",
    "    return sequences"
   ],
   "id": "1157e6d0f10bc708",
   "outputs": [],
   "execution_count": null
  },
  {
   "metadata": {},
   "cell_type": "code",
   "source": [
    "pdb_files_with_extension = os.listdir(\"PDB Data\")\n",
    "pdb_files = [file[:-4] for file in pdb_files_with_extension if file.endswith(\".pdb\")] \n",
    "sequences = preprocess_sequence(pdb_files)"
   ],
   "id": "bc402d619f855827",
   "outputs": [],
   "execution_count": null
  },
  {
   "metadata": {},
   "cell_type": "code",
   "source": [
    "# Write the sequences to a FASTA file\n",
    "records = [SeqRecord(Seq(seq), id=f\"seq{i}\") for i, seq in enumerate(sequences)]\n",
    "SeqIO.write(records, \"sequences.fasta\", \"fasta\")"
   ],
   "id": "bbb53bf9424dcf4b",
   "outputs": [],
   "execution_count": null
  },
  {
   "metadata": {},
   "cell_type": "code",
   "source": [
    "# Align the sequences using Clustal Omega\n",
    "in_file = \"sequences.fasta\"\n",
    "out_file = \"aligned_sequences.fasta\"\n",
    "\n",
    "clustalomega_cline = ClustalOmegaCommandline(infile=in_file, outfile=out_file, verbose=True, auto=True)\n",
    "os.system(str(clustalomega_cline))"
   ],
   "id": "ea0511baa4d44d58",
   "outputs": [],
   "execution_count": null
  }
 ],
 "metadata": {
  "kernelspec": {
   "display_name": "Python 3",
   "language": "python",
   "name": "python3"
  },
  "language_info": {
   "codemirror_mode": {
    "name": "ipython",
    "version": 2
   },
   "file_extension": ".py",
   "mimetype": "text/x-python",
   "name": "python",
   "nbconvert_exporter": "python",
   "pygments_lexer": "ipython2",
   "version": "2.7.6"
  }
 },
 "nbformat": 4,
 "nbformat_minor": 5
}
