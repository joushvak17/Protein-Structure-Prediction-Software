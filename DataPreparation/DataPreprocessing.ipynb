{
 "cells": [
  {
   "metadata": {},
   "cell_type": "markdown",
   "source": "Import the needed libraries",
   "id": "b57e58f18b70c7bf"
  },
  {
   "cell_type": "code",
   "id": "initial_id",
   "metadata": {
    "collapsed": true,
    "ExecuteTime": {
     "end_time": "2024-05-04T17:04:13.808866Z",
     "start_time": "2024-05-04T17:04:12.920637Z"
    }
   },
   "source": [
    "from Bio.PDB import PDBParser, is_aa, Polypeptide\n",
    "from Bio.Seq import Seq\n",
    "from Bio.SeqRecord import SeqRecord\n",
    "from Bio.Align.Applications import ClustalOmegaCommandline\n",
    "from Bio import SeqIO\n",
    "import os\n",
    "import subprocess"
   ],
   "outputs": [],
   "execution_count": 1
  },
  {
   "metadata": {},
   "cell_type": "markdown",
   "source": "Define a function that will preprocess the PDB files",
   "id": "6a743d06be402cbb"
  },
  {
   "metadata": {
    "ExecuteTime": {
     "end_time": "2024-05-03T22:35:52.685877Z",
     "start_time": "2024-05-03T22:35:52.676714Z"
    }
   },
   "cell_type": "code",
   "source": [
    "def preprocess_sequence(pdb_files):\n",
    "    sequence_records = []\n",
    "    sequences_seen = set()\n",
    "    \n",
    "    # Count the number of missing atoms and non-standard residues \n",
    "    non_standard_residue_count = 0\n",
    "    missing_atom_count = 0\n",
    "    \n",
    "    # Loop through all the PDB files\n",
    "    for pdb_file in pdb_files:\n",
    "        \n",
    "        # Parse the PDB files \n",
    "        structure = PDBParser(QUIET=True).get_structure(pdb_file, f\"PDB Data/{pdb_file}.pdb\")\n",
    "\n",
    "        for model in structure:\n",
    "            for chain in model:\n",
    "                sequence = \"\"\n",
    "                for residue in chain:\n",
    "\n",
    "                    # Check if residue is not a standard amino acid\n",
    "                    if not is_aa(residue):\n",
    "                        non_standard_residue_count += 1\n",
    "                        continue\n",
    "\n",
    "                    # Check if residue is missing atoms  \n",
    "                    if residue.is_disordered():\n",
    "                        missing_atom_count += 1\n",
    "                        continue\n",
    "\n",
    "                    # Convert to one-letter code\n",
    "                    try:\n",
    "                        sequence += Polypeptide.three_to_one(residue.get_resname())\n",
    "                    except KeyError:\n",
    "                        continue\n",
    "                        \n",
    "                # Add correctly formed sequences\n",
    "                if sequence and sequence not in sequences_seen:\n",
    "                    sequence_records.append(SeqRecord(Seq(sequence), id=f\"{pdb_file}_{chain.id}\",\n",
    "                                                      description=f\"Source File: {pdb_file}, Chain: {chain.id}\"))\n",
    "                    sequences_seen.add(sequence)\n",
    "\n",
    "    print(f\"Found {non_standard_residue_count} non-standard residues\")\n",
    "    print(f\"Found {missing_atom_count} missing atoms\")\n",
    "\n",
    "    return sequence_records"
   ],
   "id": "1157e6d0f10bc708",
   "outputs": [],
   "execution_count": 2
  },
  {
   "metadata": {},
   "cell_type": "markdown",
   "source": "Perform the preprocessing on the PDB Data",
   "id": "10ee027658f6fc76"
  },
  {
   "metadata": {
    "ExecuteTime": {
     "end_time": "2024-05-03T22:48:15.140909Z",
     "start_time": "2024-05-03T22:35:59.077655Z"
    }
   },
   "cell_type": "code",
   "source": [
    "pdb_files_with_extension = os.listdir(\"PDB Data\")\n",
    "pdb_files = [file[:-4] for file in pdb_files_with_extension if file.endswith(\".pdb\")] \n",
    "sequences = preprocess_sequence(pdb_files)"
   ],
   "id": "bc402d619f855827",
   "outputs": [
    {
     "name": "stdout",
     "output_type": "stream",
     "text": [
      "Found 1343635 non-standard residues\n",
      "Found 7206 missing atoms\n"
     ]
    }
   ],
   "execution_count": 3
  },
  {
   "metadata": {},
   "cell_type": "markdown",
   "source": "Write the sequences to a FASTA file",
   "id": "8083843a1279b908"
  },
  {
   "metadata": {
    "ExecuteTime": {
     "end_time": "2024-05-03T22:48:27.296672Z",
     "start_time": "2024-05-03T22:48:27.239522Z"
    }
   },
   "cell_type": "code",
   "source": "SeqIO.write(sequences, \"FASTA Data/Sequences.fasta\", \"fasta\")",
   "id": "bbb53bf9424dcf4b",
   "outputs": [
    {
     "data": {
      "text/plain": [
       "7753"
      ]
     },
     "execution_count": 4,
     "metadata": {},
     "output_type": "execute_result"
    }
   ],
   "execution_count": 4
  },
  {
   "metadata": {},
   "cell_type": "markdown",
   "source": "Align the sequences using Clustal Omega",
   "id": "d484eeedde421fd1"
  },
  {
   "metadata": {
    "ExecuteTime": {
     "end_time": "2024-05-04T20:23:40.951877Z",
     "start_time": "2024-05-04T17:05:10.979597Z"
    }
   },
   "cell_type": "code",
   "source": [
    "in_file = \"FASTA Data/Sequences.fasta\"\n",
    "out_file = \"FASTA Data/Aligned_Sequences.fasta\"\n",
    "clustal_cline = ClustalOmegaCommandline(infile=in_file, outfile=out_file, verbose=True, auto=True)\n",
    "\n",
    "try:\n",
    "    subprocess.run(str(clustal_cline), check=True, shell=True)\n",
    "except subprocess.CalledProcessError as e:\n",
    "    print(f\"Error: {e}, {e.output}\")"
   ],
   "id": "ea0511baa4d44d58",
   "outputs": [
    {
     "name": "stdout",
     "output_type": "stream",
     "text": [
      "Using 8 threads\n",
      "Read 7753 sequences (type: Protein) from FASTAData/Sequences.fasta\n",
      "Setting options automatically based on input sequence characteristics (might overwrite some of your options).\n",
      "Using 166 seeds (chosen with constant stride from length sorted seqs) for mBed (from a total of 7753 sequences)\n",
      "Calculating pairwise ktuple-distances...\n",
      "Ktuple-distance calculation progress done. CPU time: 189.17u 0.51s 00:03:09.67 Elapsed: 00:01:23\n",
      "mBed created 248 cluster/s (with a minimum of 1 and a soft maximum of 100 sequences each)\n",
      "Distance calculation within sub-clusters done. CPU time: 52.48u 0.07s 00:00:52.55 Elapsed: 00:00:22\n",
      "Guide-tree computation (mBed) done.\n",
      "Progressive alignment progress done. CPU time: 60241.44u 214.81s 16:47:36.25 Elapsed: 03:16:31\n",
      "Alignment written to FASTAData/Aligned_Sequences.fasta\n"
     ]
    }
   ],
   "execution_count": 2
  }
 ],
 "metadata": {
  "kernelspec": {
   "display_name": "Python 3",
   "language": "python",
   "name": "python3"
  },
  "language_info": {
   "codemirror_mode": {
    "name": "ipython",
    "version": 2
   },
   "file_extension": ".py",
   "mimetype": "text/x-python",
   "name": "python",
   "nbconvert_exporter": "python",
   "pygments_lexer": "ipython2",
   "version": "2.7.6"
  }
 },
 "nbformat": 4,
 "nbformat_minor": 5
}
