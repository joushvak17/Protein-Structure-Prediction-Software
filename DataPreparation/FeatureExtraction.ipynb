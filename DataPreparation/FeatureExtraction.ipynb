{
 "cells": [
  {
   "cell_type": "code",
   "id": "initial_id",
   "metadata": {
    "collapsed": true,
    "ExecuteTime": {
     "end_time": "2024-04-19T17:41:33.549615Z",
     "start_time": "2024-04-19T17:41:32.745672Z"
    }
   },
   "source": [
    "# Import the needed libraries\n",
    "import pandas as pd\n",
    "from Bio import SeqIO"
   ],
   "outputs": [],
   "execution_count": 1
  },
  {
   "metadata": {},
   "cell_type": "code",
   "source": [
    "# Define the dataframes that will have the calculated feature values\n",
    "unaligned_data = {\"ID\": [], \n",
    "                  \"Sequence\": [], \n",
    "                  \"Amino Acid Composition\": [], \n",
    "                  \"Physicochemical Properties\": [], \n",
    "                  \"Sequence Length\": [], \n",
    "                  \"Sequence Motif\": []}\n",
    "\n",
    "aligned_data = {\"ID\": [], \n",
    "                \"Aligned Sequence\": [],\n",
    "                \"Consensus Sequence\": [], \n",
    "                \"Profile-Based Features\": [],\n",
    "                \"Secondary Structure Predictions\": [],\n",
    "                \"Gap Statistics\": []}\n",
    "\n",
    "for seq_record in SeqIO.parse(\"sequences.fasta\", \"fasta\"):\n",
    "    unaligned_data[\"ID\"].append(seq_record.id)\n",
    "    unaligned_data[\"Unaligned Sequence\"].append(seq_record.seq)\n",
    "    \n",
    "for seq_record in SeqIO.parse(\"aligned_sequences.fasta\", \"fasta\"):\n",
    "    aligned_data[\"ID\"].append(seq_record.id)\n",
    "    aligned_data[\"Aligned Sequence\"].append(seq_record.seq)\n",
    "\n",
    "unaligned_df = pd.DataFrame(unaligned_data)\n",
    "unaligned_df.head()\n",
    "\n",
    "aligned_df = pd.DataFrame(aligned_data)\n",
    "aligned_df.head()"
   ],
   "id": "9cacaf0dcd5fb774",
   "outputs": [],
   "execution_count": null
  }
 ],
 "metadata": {
  "kernelspec": {
   "display_name": "Python 3",
   "language": "python",
   "name": "python3"
  },
  "language_info": {
   "codemirror_mode": {
    "name": "ipython",
    "version": 2
   },
   "file_extension": ".py",
   "mimetype": "text/x-python",
   "name": "python",
   "nbconvert_exporter": "python",
   "pygments_lexer": "ipython2",
   "version": "2.7.6"
  }
 },
 "nbformat": 4,
 "nbformat_minor": 5
}
