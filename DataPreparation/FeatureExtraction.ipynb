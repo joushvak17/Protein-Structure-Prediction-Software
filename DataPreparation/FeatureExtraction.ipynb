{
 "cells": [
  {
   "cell_type": "code",
   "id": "initial_id",
   "metadata": {
    "collapsed": true
   },
   "source": [
    "# Import the needed libraries\n",
    "import pandas as pd\n",
    "from Bio import SeqIO\n",
    "from FeatureExtractionOperations import calculate_a_acid_composition, calculate_hydrophobicity, calculate_polarity, calculate_mw, calculate_pI"
   ],
   "outputs": [],
   "execution_count": null
  },
  {
   "metadata": {},
   "cell_type": "code",
   "source": [
    "# Define the dataframes that will have the calculated feature values\n",
    "unaligned_data = {\"ID\": [], \n",
    "                  \"Unaligned Sequence\": [], \n",
    "                  'A': [], 'R': [], 'N': [], 'D': [],\n",
    "                  'C': [], 'E': [], 'Q': [], 'G': [],\n",
    "                  'H': [], 'I': [], 'L': [], 'K': [],\n",
    "                  'M': [], 'F': [], 'P': [], 'S': [],\n",
    "                  'T': [], 'W': [], 'Y': [], 'V': [],\n",
    "                  \"Hydrophobicity (Kyte-Doolittle Scale)\": [],\n",
    "                  \"Net Charge at pH 7.0 (Neutral)\": [],\n",
    "                  \"Net Charge at pH 3.0 (Acidic)\": [],\n",
    "                  \"Net Charge at pH 11.0 (Basic)\": [],\n",
    "                  \"Isoelectric Point\": [],\n",
    "                  \"Molecular Weight\": [],\n",
    "                  \"Sequence Length\": []} \n",
    "\n",
    "for seq_record in SeqIO.parse(\"sequences.fasta\", \"fasta\"):\n",
    "    \n",
    "    unaligned_data[\"ID\"].append(seq_record.id)\n",
    "    unaligned_data[\"Unaligned Sequence\"].append(seq_record.seq)\n",
    "    \n",
    "    aa_composition = calculate_a_acid_composition(str(seq_record.seq))\n",
    "    for amino_acid, percent in aa_composition.items():\n",
    "        unaligned_data[amino_acid].append(percent)\n",
    "    \n",
    "    hydrophobicity_values = calculate_hydrophobicity(str(seq_record.seq))\n",
    "    unaligned_data[\"Hydrophobicity (Kyte-Doolittle Scale)\"].append(hydrophobicity_values)\n",
    "    \n",
    "    charge_7 = calculate_polarity(str(seq_record.seq), 7.0)\n",
    "    unaligned_data[\"Net Charge at pH 7.0 (Neutral)\"].append(charge_7)\n",
    "\n",
    "    charge_3 = calculate_polarity(str(seq_record.seq), 3.0)\n",
    "    unaligned_data[\"Net Charge at pH 3.0 (Acidic)\"].append(charge_3)\n",
    "\n",
    "    charge_11 = calculate_polarity(str(seq_record.seq), 11.0)\n",
    "    unaligned_data[\"Net Charge at pH 11.0 (Basic)\"].append(charge_11)\n",
    "    \n",
    "    isolectric_values = calculate_pI(str(seq_record.seq))\n",
    "    unaligned_data[\"Isoelectric Point\"].append(isolectric_values)\n",
    "    \n",
    "    mw_values = calculate_mw(str(seq_record.seq))\n",
    "    unaligned_data[\"Molecular Weight\"].append(mw_values)\n",
    "            \n",
    "    sequence_length = len(seq_record.seq)\n",
    "    unaligned_data[\"Sequence Length\"].append(sequence_length)    \n",
    "    \n",
    "aligned_data = {\"ID\": [], \n",
    "                \"Aligned Sequence\": [],\n",
    "                \"Consensus Sequence\": [], \n",
    "                \"Profile-Based Features\": [],\n",
    "                \"Secondary Structure Predictions\": [],\n",
    "                \"Gap Statistics\": []}\n",
    "\n",
    "for seq_record in SeqIO.parse(\"aligned_sequences.fasta\", \"fasta\"):\n",
    "    aligned_data[\"ID\"].append(seq_record.id)\n",
    "    aligned_data[\"Aligned Sequence\"].append(seq_record.seq)\n",
    "    aligned_data[\"Consensus Sequence\"].append(None)\n",
    "    aligned_data[\"Profile-Based Features\"].append(None)\n",
    "    aligned_data[\"Secondary Structure Predictions\"].append(None)\n",
    "    aligned_data[\"Gap Statistics\"].append(None)\n"
   ],
   "id": "9cacaf0dcd5fb774",
   "outputs": [],
   "execution_count": null
  },
  {
   "metadata": {},
   "cell_type": "code",
   "source": [
    "unaligned_df = pd.DataFrame(unaligned_data)\n",
    "unaligned_df.head()"
   ],
   "id": "cd3e7a6d0319cbbe",
   "outputs": [],
   "execution_count": null
  },
  {
   "metadata": {},
   "cell_type": "code",
   "source": [
    "aligned_df = pd.DataFrame(aligned_data)\n",
    "aligned_df.head()"
   ],
   "id": "9fd0079d37e004b1",
   "outputs": [],
   "execution_count": null
  }
 ],
 "metadata": {
  "kernelspec": {
   "display_name": "Python 3",
   "language": "python",
   "name": "python3"
  },
  "language_info": {
   "codemirror_mode": {
    "name": "ipython",
    "version": 2
   },
   "file_extension": ".py",
   "mimetype": "text/x-python",
   "name": "python",
   "nbconvert_exporter": "python",
   "pygments_lexer": "ipython2",
   "version": "2.7.6"
  }
 },
 "nbformat": 4,
 "nbformat_minor": 5
}
