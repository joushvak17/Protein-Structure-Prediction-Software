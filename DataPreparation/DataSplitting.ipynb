{
 "cells": [
  {
   "cell_type": "code",
   "id": "initial_id",
   "metadata": {
    "collapsed": true,
    "ExecuteTime": {
     "end_time": "2024-04-27T21:50:43.410554Z",
     "start_time": "2024-04-27T21:50:42.649754Z"
    }
   },
   "source": [
    "# Import needed libraries\n",
    "import pandas as pd\n",
    "import ast"
   ],
   "outputs": [],
   "execution_count": 1
  },
  {
   "metadata": {
    "ExecuteTime": {
     "end_time": "2024-04-27T21:50:55.076493Z",
     "start_time": "2024-04-27T21:50:46.037942Z"
    }
   },
   "cell_type": "code",
   "source": [
    "# Read in the Dataset.csv file and check the length\n",
    "dataset = pd.read_csv(\"Dataset.csv\")\n",
    "print(f\"Dataset Size: {len(dataset)}\")\n",
    "dataset.head()"
   ],
   "id": "f7b39e5f82d8651b",
   "outputs": [
    {
     "name": "stdout",
     "output_type": "stream",
     "text": [
      "Dataset Size: 11175\n"
     ]
    },
    {
     "data": {
      "text/plain": [
       "       ID                                 Unaligned Sequence         A  \\\n",
       "0  2VO6_A  ESVKEFLAKAKEDFLKKWENPAQNTAHLQFERIKTLGTGSFGRVML...  0.060060   \n",
       "1  2VO6_I                               TTYADFIASGRTGRRNAIHD  0.150000   \n",
       "2  3DNK_A  GGPSVFLFPPKPKDTLMISRTPEVTCVVVDVSHEDPEVKFNWYVDG...  0.028708   \n",
       "3  3DNK_B  GGPSVFLFPPKPKDTLMISRTPEVTCVVVDVSHEDPEVKFNWYVDG...  0.028571   \n",
       "4  3GLT_A  GKLSLQDVAELIRARACQRVVVMVGAGISTPSGIPDFRSPGSGLYS...  0.062044   \n",
       "\n",
       "          R         N         D         C         E         Q         G  ...  \\\n",
       "0  0.045045  0.045045  0.051051  0.006006  0.078078  0.036036  0.060060  ...   \n",
       "1  0.150000  0.050000  0.100000  0.000000  0.000000  0.000000  0.100000  ...   \n",
       "2  0.028708  0.047847  0.047847  0.019139  0.071770  0.043062  0.043062  ...   \n",
       "3  0.028571  0.047619  0.047619  0.019048  0.071429  0.042857  0.042857  ...   \n",
       "4  0.069343  0.021898  0.054745  0.018248  0.058394  0.032847  0.072993  ...   \n",
       "\n",
       "   Total Gaps in Alignment  Average Gap Length  Sequence Length_y  Gap Count  \\\n",
       "0                 53679017            3.557247               5024       4691   \n",
       "1                 53679017            3.557247               5024       5004   \n",
       "2                 53679017            3.557247               5024       4815   \n",
       "3                 53679017            3.557247               5024       4814   \n",
       "4                 53679017            3.557247               5024       4750   \n",
       "\n",
       "   Percentage Gaps  Mutations from Consensus       Experimental  Resolution  \\\n",
       "0        93.371815                      5024  x-ray diffraction        1.97   \n",
       "1        99.601911                      5024  x-ray diffraction        1.97   \n",
       "2        95.839968                      5024  x-ray diffraction        2.84   \n",
       "3        95.820064                      5024  x-ray diffraction        2.84   \n",
       "4        94.546178                      5024  x-ray diffraction        2.10   \n",
       "\n",
       "   R Value  R Free  \n",
       "0    0.172   0.229  \n",
       "1    0.172   0.229  \n",
       "2    0.240   0.320  \n",
       "3    0.240   0.320  \n",
       "4    0.195   0.228  \n",
       "\n",
       "[5 rows x 43 columns]"
      ],
      "text/html": [
       "<div>\n",
       "<style scoped>\n",
       "    .dataframe tbody tr th:only-of-type {\n",
       "        vertical-align: middle;\n",
       "    }\n",
       "\n",
       "    .dataframe tbody tr th {\n",
       "        vertical-align: top;\n",
       "    }\n",
       "\n",
       "    .dataframe thead th {\n",
       "        text-align: right;\n",
       "    }\n",
       "</style>\n",
       "<table border=\"1\" class=\"dataframe\">\n",
       "  <thead>\n",
       "    <tr style=\"text-align: right;\">\n",
       "      <th></th>\n",
       "      <th>ID</th>\n",
       "      <th>Unaligned Sequence</th>\n",
       "      <th>A</th>\n",
       "      <th>R</th>\n",
       "      <th>N</th>\n",
       "      <th>D</th>\n",
       "      <th>C</th>\n",
       "      <th>E</th>\n",
       "      <th>Q</th>\n",
       "      <th>G</th>\n",
       "      <th>...</th>\n",
       "      <th>Total Gaps in Alignment</th>\n",
       "      <th>Average Gap Length</th>\n",
       "      <th>Sequence Length_y</th>\n",
       "      <th>Gap Count</th>\n",
       "      <th>Percentage Gaps</th>\n",
       "      <th>Mutations from Consensus</th>\n",
       "      <th>Experimental</th>\n",
       "      <th>Resolution</th>\n",
       "      <th>R Value</th>\n",
       "      <th>R Free</th>\n",
       "    </tr>\n",
       "  </thead>\n",
       "  <tbody>\n",
       "    <tr>\n",
       "      <th>0</th>\n",
       "      <td>2VO6_A</td>\n",
       "      <td>ESVKEFLAKAKEDFLKKWENPAQNTAHLQFERIKTLGTGSFGRVML...</td>\n",
       "      <td>0.060060</td>\n",
       "      <td>0.045045</td>\n",
       "      <td>0.045045</td>\n",
       "      <td>0.051051</td>\n",
       "      <td>0.006006</td>\n",
       "      <td>0.078078</td>\n",
       "      <td>0.036036</td>\n",
       "      <td>0.060060</td>\n",
       "      <td>...</td>\n",
       "      <td>53679017</td>\n",
       "      <td>3.557247</td>\n",
       "      <td>5024</td>\n",
       "      <td>4691</td>\n",
       "      <td>93.371815</td>\n",
       "      <td>5024</td>\n",
       "      <td>x-ray diffraction</td>\n",
       "      <td>1.97</td>\n",
       "      <td>0.172</td>\n",
       "      <td>0.229</td>\n",
       "    </tr>\n",
       "    <tr>\n",
       "      <th>1</th>\n",
       "      <td>2VO6_I</td>\n",
       "      <td>TTYADFIASGRTGRRNAIHD</td>\n",
       "      <td>0.150000</td>\n",
       "      <td>0.150000</td>\n",
       "      <td>0.050000</td>\n",
       "      <td>0.100000</td>\n",
       "      <td>0.000000</td>\n",
       "      <td>0.000000</td>\n",
       "      <td>0.000000</td>\n",
       "      <td>0.100000</td>\n",
       "      <td>...</td>\n",
       "      <td>53679017</td>\n",
       "      <td>3.557247</td>\n",
       "      <td>5024</td>\n",
       "      <td>5004</td>\n",
       "      <td>99.601911</td>\n",
       "      <td>5024</td>\n",
       "      <td>x-ray diffraction</td>\n",
       "      <td>1.97</td>\n",
       "      <td>0.172</td>\n",
       "      <td>0.229</td>\n",
       "    </tr>\n",
       "    <tr>\n",
       "      <th>2</th>\n",
       "      <td>3DNK_A</td>\n",
       "      <td>GGPSVFLFPPKPKDTLMISRTPEVTCVVVDVSHEDPEVKFNWYVDG...</td>\n",
       "      <td>0.028708</td>\n",
       "      <td>0.028708</td>\n",
       "      <td>0.047847</td>\n",
       "      <td>0.047847</td>\n",
       "      <td>0.019139</td>\n",
       "      <td>0.071770</td>\n",
       "      <td>0.043062</td>\n",
       "      <td>0.043062</td>\n",
       "      <td>...</td>\n",
       "      <td>53679017</td>\n",
       "      <td>3.557247</td>\n",
       "      <td>5024</td>\n",
       "      <td>4815</td>\n",
       "      <td>95.839968</td>\n",
       "      <td>5024</td>\n",
       "      <td>x-ray diffraction</td>\n",
       "      <td>2.84</td>\n",
       "      <td>0.240</td>\n",
       "      <td>0.320</td>\n",
       "    </tr>\n",
       "    <tr>\n",
       "      <th>3</th>\n",
       "      <td>3DNK_B</td>\n",
       "      <td>GGPSVFLFPPKPKDTLMISRTPEVTCVVVDVSHEDPEVKFNWYVDG...</td>\n",
       "      <td>0.028571</td>\n",
       "      <td>0.028571</td>\n",
       "      <td>0.047619</td>\n",
       "      <td>0.047619</td>\n",
       "      <td>0.019048</td>\n",
       "      <td>0.071429</td>\n",
       "      <td>0.042857</td>\n",
       "      <td>0.042857</td>\n",
       "      <td>...</td>\n",
       "      <td>53679017</td>\n",
       "      <td>3.557247</td>\n",
       "      <td>5024</td>\n",
       "      <td>4814</td>\n",
       "      <td>95.820064</td>\n",
       "      <td>5024</td>\n",
       "      <td>x-ray diffraction</td>\n",
       "      <td>2.84</td>\n",
       "      <td>0.240</td>\n",
       "      <td>0.320</td>\n",
       "    </tr>\n",
       "    <tr>\n",
       "      <th>4</th>\n",
       "      <td>3GLT_A</td>\n",
       "      <td>GKLSLQDVAELIRARACQRVVVMVGAGISTPSGIPDFRSPGSGLYS...</td>\n",
       "      <td>0.062044</td>\n",
       "      <td>0.069343</td>\n",
       "      <td>0.021898</td>\n",
       "      <td>0.054745</td>\n",
       "      <td>0.018248</td>\n",
       "      <td>0.058394</td>\n",
       "      <td>0.032847</td>\n",
       "      <td>0.072993</td>\n",
       "      <td>...</td>\n",
       "      <td>53679017</td>\n",
       "      <td>3.557247</td>\n",
       "      <td>5024</td>\n",
       "      <td>4750</td>\n",
       "      <td>94.546178</td>\n",
       "      <td>5024</td>\n",
       "      <td>x-ray diffraction</td>\n",
       "      <td>2.10</td>\n",
       "      <td>0.195</td>\n",
       "      <td>0.228</td>\n",
       "    </tr>\n",
       "  </tbody>\n",
       "</table>\n",
       "<p>5 rows × 43 columns</p>\n",
       "</div>"
      ]
     },
     "execution_count": 2,
     "metadata": {},
     "output_type": "execute_result"
    }
   ],
   "execution_count": 2
  },
  {
   "metadata": {
    "ExecuteTime": {
     "end_time": "2024-04-27T21:51:18.162184Z",
     "start_time": "2024-04-27T21:51:18.146703Z"
    }
   },
   "cell_type": "code",
   "source": [
    "# Check which columns have missing values\n",
    "print(f\"Values Missing:\\n{dataset.isna().any()}\")"
   ],
   "id": "3d228bd76f83b71a",
   "outputs": [
    {
     "name": "stdout",
     "output_type": "stream",
     "text": [
      "Values Missing:\n",
      "ID                                       False\n",
      "Unaligned Sequence                       False\n",
      "A                                        False\n",
      "R                                        False\n",
      "N                                        False\n",
      "D                                        False\n",
      "C                                        False\n",
      "E                                        False\n",
      "Q                                        False\n",
      "G                                        False\n",
      "H                                        False\n",
      "I                                        False\n",
      "L                                        False\n",
      "K                                        False\n",
      "M                                        False\n",
      "F                                        False\n",
      "P                                        False\n",
      "S                                        False\n",
      "T                                        False\n",
      "W                                        False\n",
      "Y                                        False\n",
      "V                                        False\n",
      "Hydrophobicity (Kyte-Doolittle Scale)    False\n",
      "Net Charge at pH 7.0 (Neutral)           False\n",
      "Net Charge at pH 3.0 (Acidic)            False\n",
      "Net Charge at pH 11.0 (Basic)            False\n",
      "Isoelectric Point                        False\n",
      "Molecular Weight                         False\n",
      "Sequence Length_x                        False\n",
      "Aligned Sequence                         False\n",
      "Consensus Sequence                       False\n",
      "Conservation Scores                      False\n",
      "Percentage of Gaps Per Position          False\n",
      "Total Gaps in Alignment                  False\n",
      "Average Gap Length                       False\n",
      "Sequence Length_y                        False\n",
      "Gap Count                                False\n",
      "Percentage Gaps                          False\n",
      "Mutations from Consensus                 False\n",
      "Experimental                             False\n",
      "Resolution                                True\n",
      "R Value                                   True\n",
      "R Free                                    True\n",
      "dtype: bool\n"
     ]
    }
   ],
   "execution_count": 5
  },
  {
   "metadata": {
    "ExecuteTime": {
     "end_time": "2024-04-27T21:51:24.586535Z",
     "start_time": "2024-04-27T21:51:24.575902Z"
    }
   },
   "cell_type": "code",
   "source": [
    "# Print the total number of values that are missing in the specified columns from the last cell\n",
    "print(\"Total Missing Values in Resolution: \", dataset[\"Resolution\"].isna().sum())\n",
    "print(\"Total Missing Values in R Value: \", dataset[\"R Value\"].isna().sum())\n",
    "print(\"Total Missing Values in R Free: \", dataset[\"R Free\"].isna().sum())"
   ],
   "id": "c6b018a3c740fb18",
   "outputs": [
    {
     "name": "stdout",
     "output_type": "stream",
     "text": [
      "Total Missing Values in Resolution:  380\n",
      "Total Missing Values in R Value:  783\n",
      "Total Missing Values in R Free:  805\n"
     ]
    }
   ],
   "execution_count": 6
  },
  {
   "metadata": {
    "ExecuteTime": {
     "end_time": "2024-04-27T21:51:26.613908Z",
     "start_time": "2024-04-27T21:51:26.582949Z"
    }
   },
   "cell_type": "code",
   "source": [
    "# Remove the rows where the missing values are in the sepcified columns\n",
    "dataset.dropna(subset= [\"Resolution\", \"R Value\", \"R Free\"], inplace=True)\n",
    "print(f\"Dataset Size: {len(dataset)}\")"
   ],
   "id": "54ec98f58c0fd7bd",
   "outputs": [
    {
     "name": "stdout",
     "output_type": "stream",
     "text": [
      "Dataset Size: 10370\n"
     ]
    }
   ],
   "execution_count": 7
  },
  {
   "metadata": {
    "ExecuteTime": {
     "end_time": "2024-04-27T21:51:43.430831Z",
     "start_time": "2024-04-27T21:51:43.392581Z"
    }
   },
   "cell_type": "code",
   "source": [
    "# We need to check the column types and change them if needed\n",
    "float_count, f_array = 0, []\n",
    "int_count, i_array = 0, []\n",
    "object_count, o_array = 0, []\n",
    "\n",
    "for column in dataset.columns:\n",
    "    if dataset[column].dtype == object:\n",
    "        object_count += 1\n",
    "        o_array.append(column)\n",
    "    elif dataset[column].dtype == float:\n",
    "        float_count += 1\n",
    "        f_array.append(column)\n",
    "    elif dataset[column].dtype == int:\n",
    "        int_count += 1\n",
    "        i_array.append(column)\n",
    "\n",
    "print(f\"Number of Columns: {len(dataset.columns)}\\nNumber of Columns Checked: {object_count + int_count + float_count}\\n\")\n",
    "print(f\"Number of Object Columns: {object_count}\")\n",
    "print(f\"Object Columns: {o_array}\\n\")\n",
    "print(f\"Number of Integer Columns: {int_count}\")\n",
    "print(f\"Integer Columns: {i_array}\\n\")\n",
    "print(f\"Number of Float Columns: {float_count}\")\n",
    "print(f\"Float Columns: {f_array}\\n\")"
   ],
   "id": "2d323b4cd66b5ee3",
   "outputs": [
    {
     "name": "stdout",
     "output_type": "stream",
     "text": [
      "Number of Columns: 43\n",
      "Number of Columns Checked: 43\n",
      "\n",
      "Number of Object Columns: 7\n",
      "Object Columns: ['ID', 'Unaligned Sequence', 'Hydrophobicity (Kyte-Doolittle Scale)', 'Aligned Sequence', 'Consensus Sequence', 'Percentage of Gaps Per Position', 'Experimental']\n",
      "\n",
      "Number of Integer Columns: 5\n",
      "Integer Columns: ['Sequence Length_x', 'Total Gaps in Alignment', 'Sequence Length_y', 'Gap Count', 'Mutations from Consensus']\n",
      "\n",
      "Number of Float Columns: 31\n",
      "Float Columns: ['A', 'R', 'N', 'D', 'C', 'E', 'Q', 'G', 'H', 'I', 'L', 'K', 'M', 'F', 'P', 'S', 'T', 'W', 'Y', 'V', 'Net Charge at pH 7.0 (Neutral)', 'Net Charge at pH 3.0 (Acidic)', 'Net Charge at pH 11.0 (Basic)', 'Isoelectric Point', 'Molecular Weight', 'Conservation Scores', 'Average Gap Length', 'Percentage Gaps', 'Resolution', 'R Value', 'R Free']\n",
      "\n"
     ]
    }
   ],
   "execution_count": 9
  },
  {
   "metadata": {
    "ExecuteTime": {
     "end_time": "2024-04-27T22:03:09.291953Z",
     "start_time": "2024-04-27T21:51:46.539116Z"
    }
   },
   "cell_type": "code",
   "source": [
    "# We have to convert the columns of type object to the correct ones\n",
    "def literal_eval(x):\n",
    "    try:\n",
    "        return ast.literal_eval(x)\n",
    "    except ValueError:\n",
    "        return None\n",
    "\n",
    "for i in range(len(o_array)):\n",
    "    if o_array[i] in [\"ID\", \"Unaligned\", \"Aligned Sequence\", \"Consensus Sequence\", \"Experimental\"]:\n",
    "        dataset[o_array[i]] = dataset[o_array[i]].astype(str)\n",
    "    else:\n",
    "        dataset[o_array[i]] = dataset[o_array[i]].apply(literal_eval)\n",
    "\n",
    "for j in range(len(o_array)):\n",
    "    if o_array[i] not in [\"ID\", \"Unaligned\", \"Aligned Sequence\", \"Consensus Sequence\", \"Experimental\"]:\n",
    "        dataset = dataset[dataset[o_array[i]].notnull()]\n",
    "\n",
    "for column in dataset.columns:\n",
    "    print(f\"Column '{column}' has data type: {dataset[column].dtype}\")"
   ],
   "id": "63f59c0eea9b48c",
   "outputs": [
    {
     "name": "stdout",
     "output_type": "stream",
     "text": [
      "Column 'ID' has data type: object\n",
      "Column 'Unaligned Sequence' has data type: object\n",
      "Column 'A' has data type: float64\n",
      "Column 'R' has data type: float64\n",
      "Column 'N' has data type: float64\n",
      "Column 'D' has data type: float64\n",
      "Column 'C' has data type: float64\n",
      "Column 'E' has data type: float64\n",
      "Column 'Q' has data type: float64\n",
      "Column 'G' has data type: float64\n",
      "Column 'H' has data type: float64\n",
      "Column 'I' has data type: float64\n",
      "Column 'L' has data type: float64\n",
      "Column 'K' has data type: float64\n",
      "Column 'M' has data type: float64\n",
      "Column 'F' has data type: float64\n",
      "Column 'P' has data type: float64\n",
      "Column 'S' has data type: float64\n",
      "Column 'T' has data type: float64\n",
      "Column 'W' has data type: float64\n",
      "Column 'Y' has data type: float64\n",
      "Column 'V' has data type: float64\n",
      "Column 'Hydrophobicity (Kyte-Doolittle Scale)' has data type: object\n",
      "Column 'Net Charge at pH 7.0 (Neutral)' has data type: float64\n",
      "Column 'Net Charge at pH 3.0 (Acidic)' has data type: float64\n",
      "Column 'Net Charge at pH 11.0 (Basic)' has data type: float64\n",
      "Column 'Isoelectric Point' has data type: float64\n",
      "Column 'Molecular Weight' has data type: float64\n",
      "Column 'Sequence Length_x' has data type: int64\n",
      "Column 'Aligned Sequence' has data type: object\n",
      "Column 'Consensus Sequence' has data type: object\n",
      "Column 'Conservation Scores' has data type: float64\n",
      "Column 'Percentage of Gaps Per Position' has data type: object\n",
      "Column 'Total Gaps in Alignment' has data type: int64\n",
      "Column 'Average Gap Length' has data type: float64\n",
      "Column 'Sequence Length_y' has data type: int64\n",
      "Column 'Gap Count' has data type: int64\n",
      "Column 'Percentage Gaps' has data type: float64\n",
      "Column 'Mutations from Consensus' has data type: int64\n",
      "Column 'Experimental' has data type: object\n",
      "Column 'Resolution' has data type: float64\n",
      "Column 'R Value' has data type: float64\n",
      "Column 'R Free' has data type: float64\n"
     ]
    }
   ],
   "execution_count": 10
  }
 ],
 "metadata": {
  "kernelspec": {
   "display_name": "Python 3",
   "language": "python",
   "name": "python3"
  },
  "language_info": {
   "codemirror_mode": {
    "name": "ipython",
    "version": 2
   },
   "file_extension": ".py",
   "mimetype": "text/x-python",
   "name": "python",
   "nbconvert_exporter": "python",
   "pygments_lexer": "ipython2",
   "version": "2.7.6"
  }
 },
 "nbformat": 4,
 "nbformat_minor": 5
}
