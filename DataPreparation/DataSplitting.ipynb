{
 "cells": [
  {
   "metadata": {},
   "cell_type": "markdown",
   "source": "Import the needed libaries",
   "id": "ec2097322e232cb2"
  },
  {
   "cell_type": "code",
   "id": "initial_id",
   "metadata": {
    "collapsed": true,
    "ExecuteTime": {
     "end_time": "2024-05-18T15:15:25.936241Z",
     "start_time": "2024-05-18T15:15:23.934577Z"
    }
   },
   "source": [
    "import pandas as pd\n",
    "import ast"
   ],
   "outputs": [],
   "execution_count": 1
  },
  {
   "metadata": {},
   "cell_type": "markdown",
   "source": "Read in the CSV file and check the length",
   "id": "5d118f705bb6a320"
  },
  {
   "metadata": {
    "ExecuteTime": {
     "end_time": "2024-05-18T15:15:52.153497Z",
     "start_time": "2024-05-18T15:15:25.944794Z"
    }
   },
   "cell_type": "code",
   "source": [
    "dataset = pd.read_csv(\"CSV Data/Dataset.csv\")\n",
    "print(f\"Dataset Size: {len(dataset)}\")\n",
    "dataset.head()"
   ],
   "id": "f7b39e5f82d8651b",
   "outputs": [
    {
     "name": "stdout",
     "output_type": "stream",
     "text": [
      "Dataset Size: 14038\n"
     ]
    },
    {
     "data": {
      "text/plain": [
       "       ID                                 Unaligned Sequence         A  \\\n",
       "0  2ECW_A  GSSGSSGMASSVLEMIKEEVTCPICLELLKEPVSADCNHSFCRACI...  0.047059   \n",
       "1  2BHP_A  MTVEPFRNEPIETFQTEEARRAMREALRRVREEFGRHYPLYIGGEW...  0.121094   \n",
       "2  2BHP_B  MTVEPFRNEPIETFQTEEARRAMREALRRVREEFGRHYPLYIGGEW...  0.121807   \n",
       "3  2D8S_A  GSSGSSGTSITPSSQDICRICHCEGDDESPLITPCHCTGSLHFVHQ...  0.012500   \n",
       "4  2DXB_A  VWDRTHHAKMATGIGDPQCFKGMAGKSKFNVGDRVRIKDLPDLFYT...  0.084746   \n",
       "\n",
       "          R         N         D         C         E         Q         G  ...  \\\n",
       "0  0.035294  0.094118  0.023529  0.082353  0.082353  0.000000  0.070588  ...   \n",
       "1  0.072266  0.027344  0.029297  0.000000  0.109375  0.019531  0.087891  ...   \n",
       "2  0.072692  0.027505  0.029470  0.000000  0.110020  0.019646  0.088409  ...   \n",
       "3  0.025000  0.000000  0.050000  0.112500  0.062500  0.050000  0.087500  ...   \n",
       "4  0.059322  0.033898  0.076271  0.008475  0.093220  0.016949  0.067797  ...   \n",
       "\n",
       "   Total Gaps in Alignment  Average Gap Length  Sequence Length_y  Gap Count  \\\n",
       "0                 79703822            2.616737               5900       5815   \n",
       "1                 79703822            2.616737               5900       5388   \n",
       "2                 79703822            2.616737               5900       5391   \n",
       "3                 79703822            2.616737               5900       5820   \n",
       "4                 79703822            2.616737               5900       5782   \n",
       "\n",
       "   Percentage Gaps  Mutations from Consensus       Experimental  Resolution  \\\n",
       "0        98.559322                      5897       solution nmr         NaN   \n",
       "1        91.322034                      5896  x-ray diffraction        1.80   \n",
       "2        91.372881                      5896  x-ray diffraction        1.80   \n",
       "3        98.644068                      5896       solution nmr         NaN   \n",
       "4        98.000000                      5900  x-ray diffraction        2.25   \n",
       "\n",
       "   R Value  R Free  \n",
       "0      NaN     NaN  \n",
       "1    0.148   0.176  \n",
       "2    0.148   0.176  \n",
       "3      NaN     NaN  \n",
       "4    0.171   0.198  \n",
       "\n",
       "[5 rows x 43 columns]"
      ],
      "text/html": [
       "<div>\n",
       "<style scoped>\n",
       "    .dataframe tbody tr th:only-of-type {\n",
       "        vertical-align: middle;\n",
       "    }\n",
       "\n",
       "    .dataframe tbody tr th {\n",
       "        vertical-align: top;\n",
       "    }\n",
       "\n",
       "    .dataframe thead th {\n",
       "        text-align: right;\n",
       "    }\n",
       "</style>\n",
       "<table border=\"1\" class=\"dataframe\">\n",
       "  <thead>\n",
       "    <tr style=\"text-align: right;\">\n",
       "      <th></th>\n",
       "      <th>ID</th>\n",
       "      <th>Unaligned Sequence</th>\n",
       "      <th>A</th>\n",
       "      <th>R</th>\n",
       "      <th>N</th>\n",
       "      <th>D</th>\n",
       "      <th>C</th>\n",
       "      <th>E</th>\n",
       "      <th>Q</th>\n",
       "      <th>G</th>\n",
       "      <th>...</th>\n",
       "      <th>Total Gaps in Alignment</th>\n",
       "      <th>Average Gap Length</th>\n",
       "      <th>Sequence Length_y</th>\n",
       "      <th>Gap Count</th>\n",
       "      <th>Percentage Gaps</th>\n",
       "      <th>Mutations from Consensus</th>\n",
       "      <th>Experimental</th>\n",
       "      <th>Resolution</th>\n",
       "      <th>R Value</th>\n",
       "      <th>R Free</th>\n",
       "    </tr>\n",
       "  </thead>\n",
       "  <tbody>\n",
       "    <tr>\n",
       "      <th>0</th>\n",
       "      <td>2ECW_A</td>\n",
       "      <td>GSSGSSGMASSVLEMIKEEVTCPICLELLKEPVSADCNHSFCRACI...</td>\n",
       "      <td>0.047059</td>\n",
       "      <td>0.035294</td>\n",
       "      <td>0.094118</td>\n",
       "      <td>0.023529</td>\n",
       "      <td>0.082353</td>\n",
       "      <td>0.082353</td>\n",
       "      <td>0.000000</td>\n",
       "      <td>0.070588</td>\n",
       "      <td>...</td>\n",
       "      <td>79703822</td>\n",
       "      <td>2.616737</td>\n",
       "      <td>5900</td>\n",
       "      <td>5815</td>\n",
       "      <td>98.559322</td>\n",
       "      <td>5897</td>\n",
       "      <td>solution nmr</td>\n",
       "      <td>NaN</td>\n",
       "      <td>NaN</td>\n",
       "      <td>NaN</td>\n",
       "    </tr>\n",
       "    <tr>\n",
       "      <th>1</th>\n",
       "      <td>2BHP_A</td>\n",
       "      <td>MTVEPFRNEPIETFQTEEARRAMREALRRVREEFGRHYPLYIGGEW...</td>\n",
       "      <td>0.121094</td>\n",
       "      <td>0.072266</td>\n",
       "      <td>0.027344</td>\n",
       "      <td>0.029297</td>\n",
       "      <td>0.000000</td>\n",
       "      <td>0.109375</td>\n",
       "      <td>0.019531</td>\n",
       "      <td>0.087891</td>\n",
       "      <td>...</td>\n",
       "      <td>79703822</td>\n",
       "      <td>2.616737</td>\n",
       "      <td>5900</td>\n",
       "      <td>5388</td>\n",
       "      <td>91.322034</td>\n",
       "      <td>5896</td>\n",
       "      <td>x-ray diffraction</td>\n",
       "      <td>1.80</td>\n",
       "      <td>0.148</td>\n",
       "      <td>0.176</td>\n",
       "    </tr>\n",
       "    <tr>\n",
       "      <th>2</th>\n",
       "      <td>2BHP_B</td>\n",
       "      <td>MTVEPFRNEPIETFQTEEARRAMREALRRVREEFGRHYPLYIGGEW...</td>\n",
       "      <td>0.121807</td>\n",
       "      <td>0.072692</td>\n",
       "      <td>0.027505</td>\n",
       "      <td>0.029470</td>\n",
       "      <td>0.000000</td>\n",
       "      <td>0.110020</td>\n",
       "      <td>0.019646</td>\n",
       "      <td>0.088409</td>\n",
       "      <td>...</td>\n",
       "      <td>79703822</td>\n",
       "      <td>2.616737</td>\n",
       "      <td>5900</td>\n",
       "      <td>5391</td>\n",
       "      <td>91.372881</td>\n",
       "      <td>5896</td>\n",
       "      <td>x-ray diffraction</td>\n",
       "      <td>1.80</td>\n",
       "      <td>0.148</td>\n",
       "      <td>0.176</td>\n",
       "    </tr>\n",
       "    <tr>\n",
       "      <th>3</th>\n",
       "      <td>2D8S_A</td>\n",
       "      <td>GSSGSSGTSITPSSQDICRICHCEGDDESPLITPCHCTGSLHFVHQ...</td>\n",
       "      <td>0.012500</td>\n",
       "      <td>0.025000</td>\n",
       "      <td>0.000000</td>\n",
       "      <td>0.050000</td>\n",
       "      <td>0.112500</td>\n",
       "      <td>0.062500</td>\n",
       "      <td>0.050000</td>\n",
       "      <td>0.087500</td>\n",
       "      <td>...</td>\n",
       "      <td>79703822</td>\n",
       "      <td>2.616737</td>\n",
       "      <td>5900</td>\n",
       "      <td>5820</td>\n",
       "      <td>98.644068</td>\n",
       "      <td>5896</td>\n",
       "      <td>solution nmr</td>\n",
       "      <td>NaN</td>\n",
       "      <td>NaN</td>\n",
       "      <td>NaN</td>\n",
       "    </tr>\n",
       "    <tr>\n",
       "      <th>4</th>\n",
       "      <td>2DXB_A</td>\n",
       "      <td>VWDRTHHAKMATGIGDPQCFKGMAGKSKFNVGDRVRIKDLPDLFYT...</td>\n",
       "      <td>0.084746</td>\n",
       "      <td>0.059322</td>\n",
       "      <td>0.033898</td>\n",
       "      <td>0.076271</td>\n",
       "      <td>0.008475</td>\n",
       "      <td>0.093220</td>\n",
       "      <td>0.016949</td>\n",
       "      <td>0.067797</td>\n",
       "      <td>...</td>\n",
       "      <td>79703822</td>\n",
       "      <td>2.616737</td>\n",
       "      <td>5900</td>\n",
       "      <td>5782</td>\n",
       "      <td>98.000000</td>\n",
       "      <td>5900</td>\n",
       "      <td>x-ray diffraction</td>\n",
       "      <td>2.25</td>\n",
       "      <td>0.171</td>\n",
       "      <td>0.198</td>\n",
       "    </tr>\n",
       "  </tbody>\n",
       "</table>\n",
       "<p>5 rows × 43 columns</p>\n",
       "</div>"
      ]
     },
     "execution_count": 2,
     "metadata": {},
     "output_type": "execute_result"
    }
   ],
   "execution_count": 2
  },
  {
   "metadata": {},
   "cell_type": "markdown",
   "source": "Check which columns have missing values",
   "id": "13958a4ee24cd588"
  },
  {
   "metadata": {},
   "cell_type": "code",
   "source": "print(f\"Values Missing:\\n{dataset.isna().any()}\")",
   "id": "3d228bd76f83b71a",
   "outputs": [
    {
     "name": "stdout",
     "output_type": "stream",
     "text": [
      "Values Missing:\n",
      "ID                                       False\n",
      "Unaligned Sequence                       False\n",
      "A                                        False\n",
      "R                                        False\n",
      "N                                        False\n",
      "D                                        False\n",
      "C                                        False\n",
      "E                                        False\n",
      "Q                                        False\n",
      "G                                        False\n",
      "H                                        False\n",
      "I                                        False\n",
      "L                                        False\n",
      "K                                        False\n",
      "M                                        False\n",
      "F                                        False\n",
      "P                                        False\n",
      "S                                        False\n",
      "T                                        False\n",
      "W                                        False\n",
      "Y                                        False\n",
      "V                                        False\n",
      "Hydrophobicity (Kyte-Doolittle Scale)    False\n",
      "Net Charge at pH 7.0 (Neutral)           False\n",
      "Net Charge at pH 3.0 (Acidic)            False\n",
      "Net Charge at pH 11.0 (Basic)            False\n",
      "Isoelectric Point                        False\n",
      "Molecular Weight                         False\n",
      "Sequence Length_x                        False\n",
      "Aligned Sequence                         False\n",
      "Consensus Sequence                       False\n",
      "Conservation Scores                      False\n",
      "Percentage of Gaps Per Position          False\n",
      "Total Gaps in Alignment                  False\n",
      "Average Gap Length                       False\n",
      "Sequence Length_y                        False\n",
      "Gap Count                                False\n",
      "Percentage Gaps                          False\n",
      "Mutations from Consensus                 False\n",
      "Experimental                             False\n",
      "Resolution                                True\n",
      "R Value                                   True\n",
      "R Free                                    True\n",
      "dtype: bool\n"
     ]
    }
   ],
   "execution_count": 3
  },
  {
   "metadata": {},
   "cell_type": "markdown",
   "source": "Print the total number of values that are missing in the specified columns",
   "id": "6f8b6c7239a6bb35"
  },
  {
   "metadata": {},
   "cell_type": "code",
   "source": [
    "print(\"Total Missing Values in Resolution: \", dataset[\"Resolution\"].isna().sum())\n",
    "print(\"Total Missing Values in R Value: \", dataset[\"R Value\"].isna().sum())\n",
    "print(\"Total Missing Values in R Free: \", dataset[\"R Free\"].isna().sum())"
   ],
   "id": "c6b018a3c740fb18",
   "outputs": [
    {
     "name": "stdout",
     "output_type": "stream",
     "text": [
      "Total Missing Values in Resolution:  1738\n",
      "Total Missing Values in R Value:  2279\n",
      "Total Missing Values in R Free:  2326\n"
     ]
    }
   ],
   "execution_count": 4
  },
  {
   "metadata": {},
   "cell_type": "markdown",
   "source": "Remove the rows where the missing values are in the specified columns",
   "id": "b6737d647f4b69e8"
  },
  {
   "metadata": {},
   "cell_type": "code",
   "source": [
    "dataset.dropna(subset= [\"Resolution\", \"R Value\", \"R Free\"], inplace=True)\n",
    "print(f\"Dataset Size: {len(dataset)}\")"
   ],
   "id": "54ec98f58c0fd7bd",
   "outputs": [
    {
     "name": "stdout",
     "output_type": "stream",
     "text": [
      "Dataset Size: 11712\n"
     ]
    }
   ],
   "execution_count": 5
  },
  {
   "metadata": {},
   "cell_type": "markdown",
   "source": "Check the column types and change them if needed",
   "id": "375d883b3b9c46eb"
  },
  {
   "metadata": {
    "ExecuteTime": {
     "end_time": "2024-05-18T15:15:52.226507Z",
     "start_time": "2024-05-18T15:15:52.211449Z"
    }
   },
   "cell_type": "code",
   "source": [
    "float_count, f_array = 0, []\n",
    "int_count, i_array = 0, []\n",
    "object_count, o_array = 0, []\n",
    "\n",
    "for column in dataset.columns:\n",
    "    if dataset[column].dtype == object:\n",
    "        object_count += 1\n",
    "        o_array.append(column)\n",
    "    elif dataset[column].dtype == float:\n",
    "        float_count += 1\n",
    "        f_array.append(column)\n",
    "    elif dataset[column].dtype == int:\n",
    "        int_count += 1\n",
    "        i_array.append(column)\n",
    "\n",
    "print(f\"Number of Columns: {len(dataset.columns)}\\nNumber of Columns Checked: {object_count + int_count + float_count}\\n\")\n",
    "print(f\"Number of Object Columns: {object_count}\")\n",
    "print(f\"Object Columns: {o_array}\\n\")\n",
    "print(f\"Number of Integer Columns: {int_count}\")\n",
    "print(f\"Integer Columns: {i_array}\\n\")\n",
    "print(f\"Number of Float Columns: {float_count}\")\n",
    "print(f\"Float Columns: {f_array}\\n\")"
   ],
   "id": "2d323b4cd66b5ee3",
   "outputs": [
    {
     "name": "stdout",
     "output_type": "stream",
     "text": [
      "Number of Columns: 43\n",
      "Number of Columns Checked: 43\n",
      "\n",
      "Number of Object Columns: 7\n",
      "Object Columns: ['ID', 'Unaligned Sequence', 'Hydrophobicity (Kyte-Doolittle Scale)', 'Aligned Sequence', 'Consensus Sequence', 'Percentage of Gaps Per Position', 'Experimental']\n",
      "\n",
      "Number of Integer Columns: 5\n",
      "Integer Columns: ['Sequence Length_x', 'Total Gaps in Alignment', 'Sequence Length_y', 'Gap Count', 'Mutations from Consensus']\n",
      "\n",
      "Number of Float Columns: 31\n",
      "Float Columns: ['A', 'R', 'N', 'D', 'C', 'E', 'Q', 'G', 'H', 'I', 'L', 'K', 'M', 'F', 'P', 'S', 'T', 'W', 'Y', 'V', 'Net Charge at pH 7.0 (Neutral)', 'Net Charge at pH 3.0 (Acidic)', 'Net Charge at pH 11.0 (Basic)', 'Isoelectric Point', 'Molecular Weight', 'Conservation Scores', 'Average Gap Length', 'Percentage Gaps', 'Resolution', 'R Value', 'R Free']\n",
      "\n"
     ]
    }
   ],
   "execution_count": 6
  },
  {
   "metadata": {},
   "cell_type": "markdown",
   "source": "Convert the columns of type object to the correct ones",
   "id": "b6be3b15c661e781"
  },
  {
   "metadata": {
    "ExecuteTime": {
     "end_time": "2024-05-18T15:26:15.011426Z",
     "start_time": "2024-05-18T15:15:52.229917Z"
    }
   },
   "cell_type": "code",
   "source": [
    "def literal_eval(x):\n",
    "    try:\n",
    "        return ast.literal_eval(x)\n",
    "    except ValueError:\n",
    "        return None\n",
    "\n",
    "for i in range(len(o_array)):\n",
    "    if o_array[i] in [\"ID\", \"Unaligned Sequence\", \"Aligned Sequence\", \"Consensus Sequence\", \"Experimental\"]:\n",
    "        dataset[o_array[i]] = dataset[o_array[i]].astype(str)\n",
    "    else:\n",
    "        dataset[o_array[i]] = dataset[o_array[i]].apply(literal_eval)\n",
    "\n",
    "for j in range(len(o_array)):\n",
    "    if o_array[i] not in [\"ID\", \"Unaligned Sequence\", \"Aligned Sequence\", \"Consensus Sequence\", \"Experimental\"]:\n",
    "        dataset = dataset[dataset[o_array[i]].notnull()]\n",
    "\n",
    "for column in dataset.columns:\n",
    "    print(f\"Column '{column}' has data type: {dataset[column].dtype}\")"
   ],
   "id": "63f59c0eea9b48c",
   "outputs": [
    {
     "name": "stdout",
     "output_type": "stream",
     "text": [
      "Column 'ID' has data type: object\n",
      "Column 'Unaligned Sequence' has data type: object\n",
      "Column 'A' has data type: float64\n",
      "Column 'R' has data type: float64\n",
      "Column 'N' has data type: float64\n",
      "Column 'D' has data type: float64\n",
      "Column 'C' has data type: float64\n",
      "Column 'E' has data type: float64\n",
      "Column 'Q' has data type: float64\n",
      "Column 'G' has data type: float64\n",
      "Column 'H' has data type: float64\n",
      "Column 'I' has data type: float64\n",
      "Column 'L' has data type: float64\n",
      "Column 'K' has data type: float64\n",
      "Column 'M' has data type: float64\n",
      "Column 'F' has data type: float64\n",
      "Column 'P' has data type: float64\n",
      "Column 'S' has data type: float64\n",
      "Column 'T' has data type: float64\n",
      "Column 'W' has data type: float64\n",
      "Column 'Y' has data type: float64\n",
      "Column 'V' has data type: float64\n",
      "Column 'Hydrophobicity (Kyte-Doolittle Scale)' has data type: object\n",
      "Column 'Net Charge at pH 7.0 (Neutral)' has data type: float64\n",
      "Column 'Net Charge at pH 3.0 (Acidic)' has data type: float64\n",
      "Column 'Net Charge at pH 11.0 (Basic)' has data type: float64\n",
      "Column 'Isoelectric Point' has data type: float64\n",
      "Column 'Molecular Weight' has data type: float64\n",
      "Column 'Sequence Length_x' has data type: int64\n",
      "Column 'Aligned Sequence' has data type: object\n",
      "Column 'Consensus Sequence' has data type: object\n",
      "Column 'Conservation Scores' has data type: float64\n",
      "Column 'Percentage of Gaps Per Position' has data type: object\n",
      "Column 'Total Gaps in Alignment' has data type: int64\n",
      "Column 'Average Gap Length' has data type: float64\n",
      "Column 'Sequence Length_y' has data type: int64\n",
      "Column 'Gap Count' has data type: int64\n",
      "Column 'Percentage Gaps' has data type: float64\n",
      "Column 'Mutations from Consensus' has data type: int64\n",
      "Column 'Experimental' has data type: object\n",
      "Column 'Resolution' has data type: float64\n",
      "Column 'R Value' has data type: float64\n",
      "Column 'R Free' has data type: float64\n"
     ]
    }
   ],
   "execution_count": 7
  },
  {
   "metadata": {},
   "cell_type": "markdown",
   "source": "Get all the unique values in the experimental methods",
   "id": "3c4369e73335e934"
  },
  {
   "metadata": {},
   "cell_type": "code",
   "source": "print(dataset[\"Experimental\"].unique())",
   "id": "f9ed53044e10743f",
   "outputs": [
    {
     "name": "stdout",
     "output_type": "stream",
     "text": [
      "['x-ray diffraction' 'x-ray diffraction; epr' 'electron crystallography'\n",
      " 'neutron diffraction']\n"
     ]
    }
   ],
   "execution_count": 8
  },
  {
   "metadata": {},
   "cell_type": "markdown",
   "source": "Get the distribution of the resolution",
   "id": "a6bb293aa1acff1c"
  },
  {
   "metadata": {
    "ExecuteTime": {
     "end_time": "2024-05-18T15:26:15.765711Z",
     "start_time": "2024-05-18T15:26:15.039014Z"
    }
   },
   "cell_type": "code",
   "source": "dataset[\"Resolution\"].describe()",
   "id": "1aea9c5d27601b4b",
   "outputs": [
    {
     "data": {
      "text/plain": [
       "count    11712.000000\n",
       "mean         2.196363\n",
       "std          0.512911\n",
       "min          0.780000\n",
       "25%          1.840000\n",
       "50%          2.100000\n",
       "75%          2.500000\n",
       "max          7.000000\n",
       "Name: Resolution, dtype: float64"
      ]
     },
     "execution_count": 9,
     "metadata": {},
     "output_type": "execute_result"
    }
   ],
   "execution_count": 9
  }
 ],
 "metadata": {
  "kernelspec": {
   "display_name": "Python 3",
   "language": "python",
   "name": "python3"
  },
  "language_info": {
   "codemirror_mode": {
    "name": "ipython",
    "version": 2
   },
   "file_extension": ".py",
   "mimetype": "text/x-python",
   "name": "python",
   "nbconvert_exporter": "python",
   "pygments_lexer": "ipython2",
   "version": "2.7.6"
  }
 },
 "nbformat": 4,
 "nbformat_minor": 5
}
