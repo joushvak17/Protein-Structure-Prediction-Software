{
 "cells": [
  {
   "metadata": {},
   "cell_type": "markdown",
   "source": "Import the needed libaries",
   "id": "ec2097322e232cb2"
  },
  {
   "cell_type": "code",
   "id": "initial_id",
   "metadata": {
    "collapsed": true,
    "ExecuteTime": {
     "end_time": "2024-05-04T22:22:18.512110Z",
     "start_time": "2024-05-04T22:22:17.828361Z"
    }
   },
   "source": [
    "import pandas as pd\n",
    "import ast"
   ],
   "outputs": [],
   "execution_count": 1
  },
  {
   "metadata": {},
   "cell_type": "markdown",
   "source": "Read in the CSV file and check the length",
   "id": "5d118f705bb6a320"
  },
  {
   "metadata": {
    "ExecuteTime": {
     "end_time": "2024-05-04T22:22:23.331792Z",
     "start_time": "2024-05-04T22:22:19.651822Z"
    }
   },
   "cell_type": "code",
   "source": [
    "dataset = pd.read_csv(\"CSV Data/Dataset.csv\")\n",
    "print(f\"Dataset Size: {len(dataset)}\")\n",
    "dataset.head()"
   ],
   "id": "f7b39e5f82d8651b",
   "outputs": [
    {
     "name": "stdout",
     "output_type": "stream",
     "text": [
      "Dataset Size: 7753\n"
     ]
    },
    {
     "data": {
      "text/plain": [
       "       ID                                 Unaligned Sequence         A  \\\n",
       "0  1GNH_A  QTDMSRKAFVFPKESDTSYVSLKAPLTKPLKAFTVCLHFYTELSST...  0.043689   \n",
       "1  1A3B_L                        ADCGLRPLFEKKSLEDKTERELLESYI  0.037037   \n",
       "2  1A3B_H  IVEGSDAEIGMSPWQVMLFRKSPQELLCGASLISDRWVLTAAHCLL...  0.043825   \n",
       "3  1A3B_I                                        GDFEEIPEEYL  0.000000   \n",
       "4  2A5E_A  MEPAAGSSMEPSADWLATAAARGRVEEVRALLEAGALPNAPNSYGR...  0.185897   \n",
       "\n",
       "          R         N         D         C         E         Q         G  ...  \\\n",
       "0  0.029126  0.033981  0.043689  0.009709  0.067961  0.033981  0.082524  ...   \n",
       "1  0.074074  0.000000  0.074074  0.037037  0.185185  0.000000  0.037037  ...   \n",
       "2  0.071713  0.039841  0.063745  0.027888  0.055777  0.031873  0.079681  ...   \n",
       "3  0.000000  0.000000  0.090909  0.000000  0.363636  0.000000  0.090909  ...   \n",
       "4  0.108974  0.025641  0.070513  0.006410  0.070513  0.006410  0.089744  ...   \n",
       "\n",
       "   Total Gaps in Alignment  Average Gap Length  Sequence Length_y  Gap Count  \\\n",
       "0                 33210307            3.164685               4497       4291   \n",
       "1                 33210307            3.164685               4497       4470   \n",
       "2                 33210307            3.164685               4497       4246   \n",
       "3                 33210307            3.164685               4497       4486   \n",
       "4                 33210307            3.164685               4497       4341   \n",
       "\n",
       "   Percentage Gaps  Mutations from Consensus       Experimental  Resolution  \\\n",
       "0        95.419168                      4497  x-ray diffraction         3.0   \n",
       "1        99.399600                      4497  x-ray diffraction         1.8   \n",
       "2        94.418501                      4497  x-ray diffraction         1.8   \n",
       "3        99.755392                      4497  x-ray diffraction         1.8   \n",
       "4        96.531021                      4497       solution nmr         NaN   \n",
       "\n",
       "   R Value  R Free  \n",
       "0    0.239   0.273  \n",
       "1    0.170   0.230  \n",
       "2    0.170   0.230  \n",
       "3    0.170   0.230  \n",
       "4      NaN     NaN  \n",
       "\n",
       "[5 rows x 43 columns]"
      ],
      "text/html": [
       "<div>\n",
       "<style scoped>\n",
       "    .dataframe tbody tr th:only-of-type {\n",
       "        vertical-align: middle;\n",
       "    }\n",
       "\n",
       "    .dataframe tbody tr th {\n",
       "        vertical-align: top;\n",
       "    }\n",
       "\n",
       "    .dataframe thead th {\n",
       "        text-align: right;\n",
       "    }\n",
       "</style>\n",
       "<table border=\"1\" class=\"dataframe\">\n",
       "  <thead>\n",
       "    <tr style=\"text-align: right;\">\n",
       "      <th></th>\n",
       "      <th>ID</th>\n",
       "      <th>Unaligned Sequence</th>\n",
       "      <th>A</th>\n",
       "      <th>R</th>\n",
       "      <th>N</th>\n",
       "      <th>D</th>\n",
       "      <th>C</th>\n",
       "      <th>E</th>\n",
       "      <th>Q</th>\n",
       "      <th>G</th>\n",
       "      <th>...</th>\n",
       "      <th>Total Gaps in Alignment</th>\n",
       "      <th>Average Gap Length</th>\n",
       "      <th>Sequence Length_y</th>\n",
       "      <th>Gap Count</th>\n",
       "      <th>Percentage Gaps</th>\n",
       "      <th>Mutations from Consensus</th>\n",
       "      <th>Experimental</th>\n",
       "      <th>Resolution</th>\n",
       "      <th>R Value</th>\n",
       "      <th>R Free</th>\n",
       "    </tr>\n",
       "  </thead>\n",
       "  <tbody>\n",
       "    <tr>\n",
       "      <th>0</th>\n",
       "      <td>1GNH_A</td>\n",
       "      <td>QTDMSRKAFVFPKESDTSYVSLKAPLTKPLKAFTVCLHFYTELSST...</td>\n",
       "      <td>0.043689</td>\n",
       "      <td>0.029126</td>\n",
       "      <td>0.033981</td>\n",
       "      <td>0.043689</td>\n",
       "      <td>0.009709</td>\n",
       "      <td>0.067961</td>\n",
       "      <td>0.033981</td>\n",
       "      <td>0.082524</td>\n",
       "      <td>...</td>\n",
       "      <td>33210307</td>\n",
       "      <td>3.164685</td>\n",
       "      <td>4497</td>\n",
       "      <td>4291</td>\n",
       "      <td>95.419168</td>\n",
       "      <td>4497</td>\n",
       "      <td>x-ray diffraction</td>\n",
       "      <td>3.0</td>\n",
       "      <td>0.239</td>\n",
       "      <td>0.273</td>\n",
       "    </tr>\n",
       "    <tr>\n",
       "      <th>1</th>\n",
       "      <td>1A3B_L</td>\n",
       "      <td>ADCGLRPLFEKKSLEDKTERELLESYI</td>\n",
       "      <td>0.037037</td>\n",
       "      <td>0.074074</td>\n",
       "      <td>0.000000</td>\n",
       "      <td>0.074074</td>\n",
       "      <td>0.037037</td>\n",
       "      <td>0.185185</td>\n",
       "      <td>0.000000</td>\n",
       "      <td>0.037037</td>\n",
       "      <td>...</td>\n",
       "      <td>33210307</td>\n",
       "      <td>3.164685</td>\n",
       "      <td>4497</td>\n",
       "      <td>4470</td>\n",
       "      <td>99.399600</td>\n",
       "      <td>4497</td>\n",
       "      <td>x-ray diffraction</td>\n",
       "      <td>1.8</td>\n",
       "      <td>0.170</td>\n",
       "      <td>0.230</td>\n",
       "    </tr>\n",
       "    <tr>\n",
       "      <th>2</th>\n",
       "      <td>1A3B_H</td>\n",
       "      <td>IVEGSDAEIGMSPWQVMLFRKSPQELLCGASLISDRWVLTAAHCLL...</td>\n",
       "      <td>0.043825</td>\n",
       "      <td>0.071713</td>\n",
       "      <td>0.039841</td>\n",
       "      <td>0.063745</td>\n",
       "      <td>0.027888</td>\n",
       "      <td>0.055777</td>\n",
       "      <td>0.031873</td>\n",
       "      <td>0.079681</td>\n",
       "      <td>...</td>\n",
       "      <td>33210307</td>\n",
       "      <td>3.164685</td>\n",
       "      <td>4497</td>\n",
       "      <td>4246</td>\n",
       "      <td>94.418501</td>\n",
       "      <td>4497</td>\n",
       "      <td>x-ray diffraction</td>\n",
       "      <td>1.8</td>\n",
       "      <td>0.170</td>\n",
       "      <td>0.230</td>\n",
       "    </tr>\n",
       "    <tr>\n",
       "      <th>3</th>\n",
       "      <td>1A3B_I</td>\n",
       "      <td>GDFEEIPEEYL</td>\n",
       "      <td>0.000000</td>\n",
       "      <td>0.000000</td>\n",
       "      <td>0.000000</td>\n",
       "      <td>0.090909</td>\n",
       "      <td>0.000000</td>\n",
       "      <td>0.363636</td>\n",
       "      <td>0.000000</td>\n",
       "      <td>0.090909</td>\n",
       "      <td>...</td>\n",
       "      <td>33210307</td>\n",
       "      <td>3.164685</td>\n",
       "      <td>4497</td>\n",
       "      <td>4486</td>\n",
       "      <td>99.755392</td>\n",
       "      <td>4497</td>\n",
       "      <td>x-ray diffraction</td>\n",
       "      <td>1.8</td>\n",
       "      <td>0.170</td>\n",
       "      <td>0.230</td>\n",
       "    </tr>\n",
       "    <tr>\n",
       "      <th>4</th>\n",
       "      <td>2A5E_A</td>\n",
       "      <td>MEPAAGSSMEPSADWLATAAARGRVEEVRALLEAGALPNAPNSYGR...</td>\n",
       "      <td>0.185897</td>\n",
       "      <td>0.108974</td>\n",
       "      <td>0.025641</td>\n",
       "      <td>0.070513</td>\n",
       "      <td>0.006410</td>\n",
       "      <td>0.070513</td>\n",
       "      <td>0.006410</td>\n",
       "      <td>0.089744</td>\n",
       "      <td>...</td>\n",
       "      <td>33210307</td>\n",
       "      <td>3.164685</td>\n",
       "      <td>4497</td>\n",
       "      <td>4341</td>\n",
       "      <td>96.531021</td>\n",
       "      <td>4497</td>\n",
       "      <td>solution nmr</td>\n",
       "      <td>NaN</td>\n",
       "      <td>NaN</td>\n",
       "      <td>NaN</td>\n",
       "    </tr>\n",
       "  </tbody>\n",
       "</table>\n",
       "<p>5 rows × 43 columns</p>\n",
       "</div>"
      ]
     },
     "execution_count": 2,
     "metadata": {},
     "output_type": "execute_result"
    }
   ],
   "execution_count": 2
  },
  {
   "metadata": {},
   "cell_type": "markdown",
   "source": "Check which columns have missing values",
   "id": "13958a4ee24cd588"
  },
  {
   "metadata": {
    "ExecuteTime": {
     "end_time": "2024-05-04T22:22:27.518057Z",
     "start_time": "2024-05-04T22:22:27.497066Z"
    }
   },
   "cell_type": "code",
   "source": "print(f\"Values Missing:\\n{dataset.isna().any()}\")",
   "id": "3d228bd76f83b71a",
   "outputs": [
    {
     "name": "stdout",
     "output_type": "stream",
     "text": [
      "Values Missing:\n",
      "ID                                       False\n",
      "Unaligned Sequence                       False\n",
      "A                                        False\n",
      "R                                        False\n",
      "N                                        False\n",
      "D                                        False\n",
      "C                                        False\n",
      "E                                        False\n",
      "Q                                        False\n",
      "G                                        False\n",
      "H                                        False\n",
      "I                                        False\n",
      "L                                        False\n",
      "K                                        False\n",
      "M                                        False\n",
      "F                                        False\n",
      "P                                        False\n",
      "S                                        False\n",
      "T                                        False\n",
      "W                                        False\n",
      "Y                                        False\n",
      "V                                        False\n",
      "Hydrophobicity (Kyte-Doolittle Scale)    False\n",
      "Net Charge at pH 7.0 (Neutral)           False\n",
      "Net Charge at pH 3.0 (Acidic)            False\n",
      "Net Charge at pH 11.0 (Basic)            False\n",
      "Isoelectric Point                        False\n",
      "Molecular Weight                         False\n",
      "Sequence Length_x                        False\n",
      "Aligned Sequence                         False\n",
      "Consensus Sequence                       False\n",
      "Conservation Scores                      False\n",
      "Percentage of Gaps Per Position          False\n",
      "Total Gaps in Alignment                  False\n",
      "Average Gap Length                       False\n",
      "Sequence Length_y                        False\n",
      "Gap Count                                False\n",
      "Percentage Gaps                          False\n",
      "Mutations from Consensus                 False\n",
      "Experimental                             False\n",
      "Resolution                                True\n",
      "R Value                                   True\n",
      "R Free                                    True\n",
      "dtype: bool\n"
     ]
    }
   ],
   "execution_count": 3
  },
  {
   "metadata": {},
   "cell_type": "markdown",
   "source": "Print the total number of values that are missing in the specified columns",
   "id": "6f8b6c7239a6bb35"
  },
  {
   "metadata": {
    "ExecuteTime": {
     "end_time": "2024-05-04T22:22:38.298835Z",
     "start_time": "2024-05-04T22:22:38.290989Z"
    }
   },
   "cell_type": "code",
   "source": [
    "print(\"Total Missing Values in Resolution: \", dataset[\"Resolution\"].isna().sum())\n",
    "print(\"Total Missing Values in R Value: \", dataset[\"R Value\"].isna().sum())\n",
    "print(\"Total Missing Values in R Free: \", dataset[\"R Free\"].isna().sum())"
   ],
   "id": "c6b018a3c740fb18",
   "outputs": [
    {
     "name": "stdout",
     "output_type": "stream",
     "text": [
      "Total Missing Values in Resolution:  878\n",
      "Total Missing Values in R Value:  1601\n",
      "Total Missing Values in R Free:  3205\n"
     ]
    }
   ],
   "execution_count": 4
  },
  {
   "metadata": {},
   "cell_type": "markdown",
   "source": "Remove the rows where the missing values are in the specified columns",
   "id": "b6737d647f4b69e8"
  },
  {
   "metadata": {
    "ExecuteTime": {
     "end_time": "2024-05-04T22:22:44.821898Z",
     "start_time": "2024-05-04T22:22:44.808087Z"
    }
   },
   "cell_type": "code",
   "source": [
    "dataset.dropna(subset= [\"Resolution\", \"R Value\", \"R Free\"], inplace=True)\n",
    "print(f\"Dataset Size: {len(dataset)}\")"
   ],
   "id": "54ec98f58c0fd7bd",
   "outputs": [
    {
     "name": "stdout",
     "output_type": "stream",
     "text": [
      "Dataset Size: 4497\n"
     ]
    }
   ],
   "execution_count": 5
  },
  {
   "metadata": {},
   "cell_type": "markdown",
   "source": "Check the column types and change them if needed",
   "id": "375d883b3b9c46eb"
  },
  {
   "metadata": {
    "ExecuteTime": {
     "end_time": "2024-05-04T22:23:01.417316Z",
     "start_time": "2024-05-04T22:23:01.405983Z"
    }
   },
   "cell_type": "code",
   "source": [
    "float_count, f_array = 0, []\n",
    "int_count, i_array = 0, []\n",
    "object_count, o_array = 0, []\n",
    "\n",
    "for column in dataset.columns:\n",
    "    if dataset[column].dtype == object:\n",
    "        object_count += 1\n",
    "        o_array.append(column)\n",
    "    elif dataset[column].dtype == float:\n",
    "        float_count += 1\n",
    "        f_array.append(column)\n",
    "    elif dataset[column].dtype == int:\n",
    "        int_count += 1\n",
    "        i_array.append(column)\n",
    "\n",
    "print(f\"Number of Columns: {len(dataset.columns)}\\nNumber of Columns Checked: {object_count + int_count + float_count}\\n\")\n",
    "print(f\"Number of Object Columns: {object_count}\")\n",
    "print(f\"Object Columns: {o_array}\\n\")\n",
    "print(f\"Number of Integer Columns: {int_count}\")\n",
    "print(f\"Integer Columns: {i_array}\\n\")\n",
    "print(f\"Number of Float Columns: {float_count}\")\n",
    "print(f\"Float Columns: {f_array}\\n\")"
   ],
   "id": "2d323b4cd66b5ee3",
   "outputs": [
    {
     "name": "stdout",
     "output_type": "stream",
     "text": [
      "Number of Columns: 43\n",
      "Number of Columns Checked: 43\n",
      "\n",
      "Number of Object Columns: 7\n",
      "Object Columns: ['ID', 'Unaligned Sequence', 'Hydrophobicity (Kyte-Doolittle Scale)', 'Aligned Sequence', 'Consensus Sequence', 'Percentage of Gaps Per Position', 'Experimental']\n",
      "\n",
      "Number of Integer Columns: 5\n",
      "Integer Columns: ['Sequence Length_x', 'Total Gaps in Alignment', 'Sequence Length_y', 'Gap Count', 'Mutations from Consensus']\n",
      "\n",
      "Number of Float Columns: 31\n",
      "Float Columns: ['A', 'R', 'N', 'D', 'C', 'E', 'Q', 'G', 'H', 'I', 'L', 'K', 'M', 'F', 'P', 'S', 'T', 'W', 'Y', 'V', 'Net Charge at pH 7.0 (Neutral)', 'Net Charge at pH 3.0 (Acidic)', 'Net Charge at pH 11.0 (Basic)', 'Isoelectric Point', 'Molecular Weight', 'Conservation Scores', 'Average Gap Length', 'Percentage Gaps', 'Resolution', 'R Value', 'R Free']\n",
      "\n"
     ]
    }
   ],
   "execution_count": 6
  },
  {
   "metadata": {},
   "cell_type": "markdown",
   "source": "Convert the columns of type object to the correct ones",
   "id": "b6be3b15c661e781"
  },
  {
   "metadata": {
    "ExecuteTime": {
     "end_time": "2024-05-04T22:24:38.340799Z",
     "start_time": "2024-05-04T22:23:05.555008Z"
    }
   },
   "cell_type": "code",
   "source": [
    "def literal_eval(x):\n",
    "    try:\n",
    "        return ast.literal_eval(x)\n",
    "    except ValueError:\n",
    "        return None\n",
    "\n",
    "for i in range(len(o_array)):\n",
    "    if o_array[i] in [\"ID\", \"Unaligned\", \"Aligned Sequence\", \"Consensus Sequence\", \"Experimental\"]:\n",
    "        dataset[o_array[i]] = dataset[o_array[i]].astype(str)\n",
    "    else:\n",
    "        dataset[o_array[i]] = dataset[o_array[i]].apply(literal_eval)\n",
    "\n",
    "for j in range(len(o_array)):\n",
    "    if o_array[i] not in [\"ID\", \"Unaligned\", \"Aligned Sequence\", \"Consensus Sequence\", \"Experimental\"]:\n",
    "        dataset = dataset[dataset[o_array[i]].notnull()]\n",
    "\n",
    "for column in dataset.columns:\n",
    "    print(f\"Column '{column}' has data type: {dataset[column].dtype}\")"
   ],
   "id": "63f59c0eea9b48c",
   "outputs": [
    {
     "name": "stdout",
     "output_type": "stream",
     "text": [
      "Column 'ID' has data type: object\n",
      "Column 'Unaligned Sequence' has data type: object\n",
      "Column 'A' has data type: float64\n",
      "Column 'R' has data type: float64\n",
      "Column 'N' has data type: float64\n",
      "Column 'D' has data type: float64\n",
      "Column 'C' has data type: float64\n",
      "Column 'E' has data type: float64\n",
      "Column 'Q' has data type: float64\n",
      "Column 'G' has data type: float64\n",
      "Column 'H' has data type: float64\n",
      "Column 'I' has data type: float64\n",
      "Column 'L' has data type: float64\n",
      "Column 'K' has data type: float64\n",
      "Column 'M' has data type: float64\n",
      "Column 'F' has data type: float64\n",
      "Column 'P' has data type: float64\n",
      "Column 'S' has data type: float64\n",
      "Column 'T' has data type: float64\n",
      "Column 'W' has data type: float64\n",
      "Column 'Y' has data type: float64\n",
      "Column 'V' has data type: float64\n",
      "Column 'Hydrophobicity (Kyte-Doolittle Scale)' has data type: object\n",
      "Column 'Net Charge at pH 7.0 (Neutral)' has data type: float64\n",
      "Column 'Net Charge at pH 3.0 (Acidic)' has data type: float64\n",
      "Column 'Net Charge at pH 11.0 (Basic)' has data type: float64\n",
      "Column 'Isoelectric Point' has data type: float64\n",
      "Column 'Molecular Weight' has data type: float64\n",
      "Column 'Sequence Length_x' has data type: int64\n",
      "Column 'Aligned Sequence' has data type: object\n",
      "Column 'Consensus Sequence' has data type: object\n",
      "Column 'Conservation Scores' has data type: float64\n",
      "Column 'Percentage of Gaps Per Position' has data type: object\n",
      "Column 'Total Gaps in Alignment' has data type: int64\n",
      "Column 'Average Gap Length' has data type: float64\n",
      "Column 'Sequence Length_y' has data type: int64\n",
      "Column 'Gap Count' has data type: int64\n",
      "Column 'Percentage Gaps' has data type: float64\n",
      "Column 'Mutations from Consensus' has data type: int64\n",
      "Column 'Experimental' has data type: object\n",
      "Column 'Resolution' has data type: float64\n",
      "Column 'R Value' has data type: float64\n",
      "Column 'R Free' has data type: float64\n"
     ]
    }
   ],
   "execution_count": 7
  },
  {
   "metadata": {},
   "cell_type": "markdown",
   "source": "Get all the unique values in the experimental methods",
   "id": "3c4369e73335e934"
  },
  {
   "metadata": {
    "ExecuteTime": {
     "end_time": "2024-05-04T22:24:42.549223Z",
     "start_time": "2024-05-04T22:24:42.540460Z"
    }
   },
   "cell_type": "code",
   "source": "print(dataset[\"Experimental\"].unique())",
   "id": "f9ed53044e10743f",
   "outputs": [
    {
     "name": "stdout",
     "output_type": "stream",
     "text": [
      "['x-ray diffraction' 'electron crystallography' 'fiber diffraction']\n"
     ]
    }
   ],
   "execution_count": 8
  },
  {
   "metadata": {},
   "cell_type": "markdown",
   "source": "Get the distribution of the resolution",
   "id": "a6bb293aa1acff1c"
  },
  {
   "metadata": {
    "ExecuteTime": {
     "end_time": "2024-05-04T22:24:43.880013Z",
     "start_time": "2024-05-04T22:24:43.863989Z"
    }
   },
   "cell_type": "code",
   "source": "dataset[\"Resolution\"].describe()",
   "id": "1aea9c5d27601b4b",
   "outputs": [
    {
     "data": {
      "text/plain": [
       "count    4497.000000\n",
       "mean        2.270469\n",
       "std         0.452512\n",
       "min         0.950000\n",
       "25%         1.900000\n",
       "50%         2.250000\n",
       "75%         2.600000\n",
       "max         4.750000\n",
       "Name: Resolution, dtype: float64"
      ]
     },
     "execution_count": 9,
     "metadata": {},
     "output_type": "execute_result"
    }
   ],
   "execution_count": 9
  }
 ],
 "metadata": {
  "kernelspec": {
   "display_name": "Python 3",
   "language": "python",
   "name": "python3"
  },
  "language_info": {
   "codemirror_mode": {
    "name": "ipython",
    "version": 2
   },
   "file_extension": ".py",
   "mimetype": "text/x-python",
   "name": "python",
   "nbconvert_exporter": "python",
   "pygments_lexer": "ipython2",
   "version": "2.7.6"
  }
 },
 "nbformat": 4,
 "nbformat_minor": 5
}
