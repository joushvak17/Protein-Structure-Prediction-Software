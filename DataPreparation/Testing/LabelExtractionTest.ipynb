{
 "cells": [
  {
   "metadata": {
    "ExecuteTime": {
     "end_time": "2024-04-25T01:58:51.500889Z",
     "start_time": "2024-04-25T01:58:51.489252Z"
    }
   },
   "cell_type": "code",
   "source": [
    "# Implementation of R Value (R Free)\n",
    "r_value = None\n",
    "r_free = None\n",
    "with open(\"PDBData/1KJL.pdb\", \"r\") as f:\n",
    "    for line in f:\n",
    "        try:\n",
    "            if \"REMARK   3   R VALUE            (WORKING SET) :\" in line:\n",
    "                r_value = float(line.split()[-1])\n",
    "            elif \"REMARK   3   FREE R VALUE                     :\" in line:\n",
    "                r_free = float(line.split()[-1])\n",
    "        except ValueError:\n",
    "            pass\n",
    "print(\"R Value: \" + str(r_value))\n",
    "print(\"R Free: \" + str(r_free))"
   ],
   "id": "e5daf9e9d3f51d0b",
   "outputs": [
    {
     "name": "stdout",
     "output_type": "stream",
     "text": [
      "R Value: 0.186\n",
      "R Free: 0.217\n"
     ]
    }
   ],
   "execution_count": 40
  }
 ],
 "metadata": {
  "kernelspec": {
   "display_name": "Python 3",
   "language": "python",
   "name": "python3"
  },
  "language_info": {
   "codemirror_mode": {
    "name": "ipython",
    "version": 2
   },
   "file_extension": ".py",
   "mimetype": "text/x-python",
   "name": "python",
   "nbconvert_exporter": "python",
   "pygments_lexer": "ipython2",
   "version": "2.7.6"
  }
 },
 "nbformat": 4,
 "nbformat_minor": 5
}
