{
 "cells": [
  {
   "metadata": {
    "ExecuteTime": {
     "end_time": "2024-04-25T00:22:43.097094Z",
     "start_time": "2024-04-25T00:22:43.086794Z"
    }
   },
   "cell_type": "code",
   "source": [
    "# Implementation of R Value (R Free)\n",
    "remarks_record = None\n",
    "with open(\"PDBData/1KJL.pdb\", \"r\") as f:\n",
    "    for line in f:\n",
    "        try:\n",
    "            if \"REMARK   3   R VALUE\" in line:\n",
    "                remarks_record = float(line.split()[-1])\n",
    "        except ValueError:\n",
    "            pass\n",
    "remarks_record"
   ],
   "id": "e5daf9e9d3f51d0b",
   "outputs": [
    {
     "data": {
      "text/plain": [
       "0.186"
      ]
     },
     "execution_count": 32,
     "metadata": {},
     "output_type": "execute_result"
    }
   ],
   "execution_count": 32
  }
 ],
 "metadata": {
  "kernelspec": {
   "display_name": "Python 3",
   "language": "python",
   "name": "python3"
  },
  "language_info": {
   "codemirror_mode": {
    "name": "ipython",
    "version": 2
   },
   "file_extension": ".py",
   "mimetype": "text/x-python",
   "name": "python",
   "nbconvert_exporter": "python",
   "pygments_lexer": "ipython2",
   "version": "2.7.6"
  }
 },
 "nbformat": 4,
 "nbformat_minor": 5
}
